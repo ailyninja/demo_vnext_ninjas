{
  "metadata": {
    "colab": {
      "provenance": []
    },
    "kernelspec": {
      "name": "python3",
      "display_name": "Python 3"
    },
    "language_info": {
      "name": "python"
    },
    "lastEditStatus": {
      "notebookId": "",
      "authorId": 392143379641,
      "authorName": "",
      "authorEmail": "",
      "sessionId": "e03ca84b-76ce-40ce-b406-2eac1a799399",
      "lastEditTime": 1753396138554
    }
  },
  "nbformat_minor": 0,
  "nbformat": 4,
  "cells": [
    {
      "cell_type": "markdown",
      "metadata": {
        "id": "e393930b",
        "collapsed": false,
        "codeCollapsed": true
      },
      "source": "# Goal\nCreate a notebook that loads the iris dataset and generates large charts from it.",
      "id": "ce110000-1111-2222-3333-ffffff000001",
      "outputs": []
    },
    {
      "cell_type": "markdown",
      "metadata": {
        "id": "ba820b1b",
        "codeCollapsed": true,
        "collapsed": false
      },
      "source": "## Load the dataset\n\n### Subtask:\nLoad the Iris dataset using scikit-learn.",
      "id": "ce110000-1111-2222-3333-ffffff000002",
      "outputs": []
    },
    {
      "cell_type": "markdown",
      "metadata": {
        "id": "1f260ac8",
        "codeCollapsed": true
      },
      "source": "**Reasoning**:\nImport the necessary function and load the iris dataset.\n",
      "id": "ce110000-1111-2222-3333-ffffff000003",
      "outputs": []
    },
    {
      "cell_type": "code",
      "metadata": {
        "colab": {
          "base_uri": "https://localhost:8080/"
        },
        "id": "19a0904f",
        "outputId": "1891f864-46dd-4b45-a29d-9d689322d749",
        "language": "python"
      },
      "source": "from sklearn.datasets import load_iris\n\niris_data = load_iris()\n\nprint(iris_data.keys())",
      "execution_count": 1,
      "id": "ce110000-1111-2222-3333-ffffff000004",
      "outputs": []
    },
    {
      "cell_type": "markdown",
      "metadata": {
        "id": "08ebfe4b",
        "codeCollapsed": true,
        "collapsed": false
      },
      "source": "## Create visualizations\n\n### Subtask:\nGenerate various visualizations of the Iris dataset, adjusting plot parameters to make them large.",
      "id": "ce110000-1111-2222-3333-ffffff000005",
      "outputs": []
    },
    {
      "cell_type": "markdown",
      "metadata": {
        "id": "a3dd2349",
        "codeCollapsed": true,
        "collapsed": false
      },
      "source": "**Reasoning**:\nCreate a pandas DataFrame from the iris data and add the species column, then generate the requested large scatter plots and a large pair plot to visualize the data by species.\n",
      "id": "ce110000-1111-2222-3333-ffffff000006",
      "outputs": []
    },
    {
      "cell_type": "code",
      "metadata": {
        "colab": {
          "base_uri": "https://localhost:8080/",
          "height": 1000
        },
        "id": "e33bb896",
        "outputId": "a24974c4-fc05-4ac5-992e-d27a1aa122eb",
        "language": "python"
      },
      "source": "import pandas as pd\nimport matplotlib.pyplot as plt\nimport seaborn as sns\n\n# 1. Create a pandas DataFrame\ndf = pd.DataFrame(iris_data['data'], columns=iris_data['feature_names'])\n\n# 2. Add a new column named 'species'\ndf['species'] = iris_data['target']\ndf['species'] = df['species'].map({i: name for i, name in enumerate(iris_data['target_names'])})\n\n# 3. Generate a large scatter plot of 'sepal length (cm)' vs 'sepal width (cm)'\nplt.figure(figsize=(10, 8))\nsns.scatterplot(data=df, x='sepal length (cm)', y='sepal width (cm)', hue='species')\nplt.title('Sepal Length vs Sepal Width by Species')\nplt.show()\n\n# 4. Generate a large scatter plot of 'petal length (cm)' vs 'petal width (cm)'\nplt.figure(figsize=(10, 8))\nsns.scatterplot(data=df, x='petal length (cm)', y='petal width (cm)', hue='species')\nplt.title('Petal Length vs Petal Width by Species')\nplt.show()\n\n# 5. Generate a large pair plot of the entire dataset\nsns.pairplot(df, hue='species', height=2.5) # height controls the size of each subplot, total size is height * number_of_features\nplt.suptitle('Pair Plot of Iris Dataset by Species', y=1.02) # Add a title above the pair plot\nplt.show()",
      "execution_count": 2,
      "id": "ce110000-1111-2222-3333-ffffff000007",
      "outputs": []
    },
    {
      "cell_type": "markdown",
      "metadata": {
        "id": "e7a63591",
        "codeCollapsed": true
      },
      "source": "## Display the charts\n\n### Subtask:\nDisplay the generated charts.",
      "id": "ce110000-1111-2222-3333-ffffff000008",
      "outputs": []
    },
    {
      "cell_type": "markdown",
      "metadata": {
        "id": "ec2fbcaa",
        "codeCollapsed": true,
        "collapsed": false
      },
      "source": "## Summary\n\n### Data Analysis Key Findings\n\n*   The Iris dataset was successfully loaded using scikit-learn.\n*   A pandas DataFrame was created from the dataset, including a 'species' column mapped to the target names.\n*   Large scatter plots were generated visualizing the relationship between sepal length and width, and petal length and width, differentiated by species.\n*   A large pair plot of the entire dataset was generated, showing relationships between all features, colored by species.\n\n### Insights or Next Steps\n\n*   The visualizations clearly show distinct groupings for different Iris species based on petal measurements, which appear to be stronger discriminators than sepal measurements.\n*   Further analysis could involve building a classification model using these features to predict the species of an Iris flower.",
      "id": "ce110000-1111-2222-3333-ffffff000009",
      "outputs": []
    },
    {
      "cell_type": "markdown",
      "metadata": {
        "id": "5b57b285",
        "codeCollapsed": true,
        "collapsed": false
      },
      "source": "## Final Statistics\n\n### Subtask:\nDisplay summary statistics of the Iris dataset.",
      "id": "ce110000-1111-2222-3333-ffffff000010",
      "outputs": []
    },
    {
      "cell_type": "markdown",
      "metadata": {
        "id": "08afbc24",
        "codeCollapsed": true
      },
      "source": "**Reasoning**:\nUse the `describe()` method to display the summary statistics of the dataframe.",
      "id": "ce110000-1111-2222-3333-ffffff000011",
      "outputs": []
    },
    {
      "cell_type": "code",
      "metadata": {
        "colab": {
          "base_uri": "https://localhost:8080/",
          "height": 300
        },
        "id": "a4ad1487",
        "outputId": "1ef37a64-d81e-4bbc-d73f-e6875243129a",
        "language": "python"
      },
      "source": "display(df.describe())",
      "execution_count": 4,
      "id": "ce110000-1111-2222-3333-ffffff000012",
      "outputs": []
    }
  ]
}