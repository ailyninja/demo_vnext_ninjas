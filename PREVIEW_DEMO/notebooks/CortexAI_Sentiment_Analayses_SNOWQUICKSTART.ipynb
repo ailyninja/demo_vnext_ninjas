{
  "metadata": {
    "kernelspec": {
      "display_name": "Streamlit Notebook",
      "name": "streamlit"
    },
    "lastEditStatus": {
      "notebookId": "5jjhh65wod5p266nvygt",
      "authorId": "392143379641",
      "authorName": "AALUSI",
      "authorEmail": "annissa.alusi@snowflake.com",
      "sessionId": "1cad2470-6439-46f4-9906-d4f2d3594d74",
      "lastEditTime": 1756573092784
    }
  },
  "nbformat_minor": 5,
  "nbformat": 4,
  "cells": [
    {
      "cell_type": "markdown",
      "id": "4db3f281-4a3d-48a5-b07e-3e967ea5a824",
      "metadata": {
        "collapsed": false,
        "resultHeight": 134,
        "codeCollapsed": true
      },
      "source": "## Import sample data\n\nIn this next SQL query, we will populate sample data that is used in this and other templates.",
      "outputs": []
    },
    {
      "cell_type": "code",
      "id": "9980dae7-06d9-45b4-85e8-1a5f7c5ff240",
      "metadata": {
        "language": "sql",
        "resultVariableName": "IMPORT_DATA",
        "collapsed": false,
        "codeCollapsed": true
      },
      "source": "USE ROLE SNOWFLAKE_LEARNING_ROLE;\n\n-- use the existing database, schema and warehouse\nUSE DATABASE SNOWFLAKE_LEARNING_DB;\nUSE WAREHOUSE SNOWFLAKE_LEARNING_WH;\n\nSET schema_name = CONCAT(current_user(), '_ANALYZE_SENTIMENT_IN_UNSTRUCTURED_DATA');\nCREATE OR REPLACE SCHEMA IDENTIFIER($schema_name);\nUSE SCHEMA IDENTIFIER($schema_name);\n\n  /*--\n  • file format and stage creation\n  --*/\n\n  CREATE OR REPLACE FILE FORMAT csv_ff \n    TYPE = 'csv';\n\n  CREATE OR REPLACE STAGE s3load\n    COMMENT = 'Quickstarts S3 Stage Connection'\n    URL = 's3://sfquickstarts/tastybytes-voc/'\n    FILE_FORMAT = csv_ff;\n\n\n  /*--\n  • raw zone table build \n  --*/\n\n  -- truck_reviews table\n  CREATE OR REPLACE TABLE truck_reviews\n  (\n      order_id NUMBER(38,0),\n      language VARCHAR(16777216),\n      source VARCHAR(16777216),\n      review VARCHAR(16777216),\n      review_id NUMBER(18,0)\n  );\n  \n  /*--\n  • raw zone table load \n  --*/\n  \n  -- truck_reviews table load\n  COPY INTO truck_reviews\n  FROM @s3load/raw_support/truck_reviews/;\n\n-- setup completion note\nSELECT 'Setup is complete' AS note;",
      "execution_count": null,
      "outputs": []
    },
    {
      "cell_type": "markdown",
      "id": "20f2093f-dd35-411b-8ede-90556f7e2ccf",
      "metadata": {
        "collapsed": false,
        "codeCollapsed": true
      },
      "source": "## Import python packages\n\nSnowflake Notebooks include Streamlit and the third-party packages listed in the Snowflake Anaconda channel. \n\nNow that the necessary packages are installed, we will import the installed packages into the notebook.",
      "outputs": []
    },
    {
      "cell_type": "code",
      "execution_count": null,
      "id": "3775908f-ca36-4846-8f38-5adca39217f2",
      "metadata": {
        "collapsed": false,
        "language": "python",
        "resultHeight": 0,
        "codeCollapsed": false
      },
      "source": "# Import python packages\nimport pandas as pd\n\n# Snowpark\nfrom snowflake.snowpark.context import get_active_session\nimport snowflake.snowpark.functions as F\n\n# Cortex Functions\nimport snowflake.cortex  as cortex\n\nsession = get_active_session()",
      "outputs": []
    },
    {
      "cell_type": "markdown",
      "id": "ba1549f9-f4d0-447d-b447-4927a17e5d56",
      "metadata": {
        "collapsed": false,
        "resultHeight": 41,
        "codeCollapsed": true
      },
      "source": "## Overview of Reviews Table",
      "outputs": []
    },
    {
      "cell_type": "code",
      "id": "c7dc6837-6c2a-4aed-820d-6c1ce45ce06e",
      "metadata": {
        "language": "sql",
        "resultVariableName": "PREVIEW_TABLE",
        "collapsed": false,
        "codeCollapsed": true
      },
      "source": "SELECT ORDER_ID, LANGUAGE, REVIEW FROM TRUCK_REVIEWS LIMIT 15;",
      "execution_count": null,
      "outputs": []
    },
    {
      "cell_type": "markdown",
      "id": "6bac2888-1344-4ea9-85aa-49e38afad859",
      "metadata": {
        "collapsed": false,
        "resultHeight": 41,
        "codeCollapsed": true
      },
      "source": "## Sentiment Analysis\nCustomer reviews can provide valuable feedback, but understanding their overall sentiment is crucial for identifying trends. With Snowflake Cortex, we can automatically determine whether a review expresses a **positive, neutral, or negative** sentiment. \n\nCortex Sentiment will return a number ranging from -1 to 1 indicating the level of negative (-1) or positive (1) sentiment in the text. Values around 0 indicate neutral sentiment, while numbers further from 0 indicate strength of sentiment. \n\nWe can perform sentiment analysis using Cortex both in Python on a Dataframe, or each cell in a column of a Snowflake table with SQL.",
      "outputs": []
    },
    {
      "cell_type": "markdown",
      "id": "beee3af8-8b85-4caa-b8f2-121df67977c0",
      "metadata": {
        "collapsed": false,
        "codeCollapsed": true
      },
      "source": "### Analyze sentiment on a Python dataframe\n\nCortex Sentiment can be used in Python or SQL. The following Python code will:\n1. Extract review text and apply **Cortex's `cortex.sentiment()` function** to determine the sentiment.\n2. Display the first few results to observe the breakdown of customer sentiment.",
      "outputs": []
    },
    {
      "cell_type": "code",
      "execution_count": null,
      "id": "965c69e0-5312-4f4f-89f1-12f52c849453",
      "metadata": {
        "collapsed": false,
        "language": "python",
        "resultHeight": 188,
        "codeCollapsed": false
      },
      "source": "# Understand the sentiment of customer review using Cortex Sentiment\nreviews_df = session.table('truck_reviews')\n\nreviews_df = reviews_df.withColumn('SENTIMENT', cortex.sentiment(F.col('REVIEW')))\n\nreviews_df.select([\"REVIEW\",\"SENTIMENT\"]).show(15, max_width = 100)",
      "outputs": []
    },
    {
      "cell_type": "markdown",
      "id": "cbcc44ed-ec2c-4000-a77b-44a8ae2b5ac4",
      "metadata": {
        "collapsed": false,
        "codeCollapsed": true
      },
      "source": "### Analyze sentiment with a SQL query",
      "outputs": []
    },
    {
      "cell_type": "code",
      "id": "4da01225-d8c2-4707-9e32-dc01f36ab937",
      "metadata": {
        "language": "sql",
        "resultVariableName": "SQL_CORTEX_SENTIMENT"
      },
      "source": "SELECT \n  REVIEW_ID,\n  REVIEW,\n  SNOWFLAKE.CORTEX.SENTIMENT(REVIEW) AS SENTIMENT\nFROM TRUCK_REVIEWS\nLIMIT 15;",
      "execution_count": null,
      "outputs": []
    },
    {
      "cell_type": "code",
      "id": "64b605ca-ada1-47fa-b6eb-386f677a3d20",
      "metadata": {
        "language": "python"
      },
      "source": "import pandas as pd\nimport matplotlib.pyplot as plt\nfrom snowflake.snowpark.context import get_active_session\n\n# Get data\nsession = get_active_session()\ndf = session.sql(\"\"\"\n    SELECT \n        SNOWFLAKE.CORTEX.SENTIMENT(REVIEW) AS SENTIMENT\n    FROM TRUCK_REVIEWS\n\"\"\").to_pandas()\n\n# Convert sentiment to numeric\ndf['SENTIMENT'] = pd.to_numeric(df['SENTIMENT'])\n\n# --- Simple metrics ---\navg_sentiment = df['SENTIMENT'].mean()\npos_reviews = (df['SENTIMENT'] > 0).sum()\nneg_reviews = (df['SENTIMENT'] < 0).sum()\n\nprint(f\"Average Sentiment: {avg_sentiment:.2f}\")\nprint(f\"Positive Reviews: {pos_reviews}\")\nprint(f\"Negative Reviews: {neg_reviews}\")\n\n# --- Plot histogram of sentiments ---\nplt.figure(figsize=(8, 5))\nplt.hist(df['SENTIMENT'], bins=20, color=\"skyblue\", edgecolor=\"black\")\nplt.title(\"Review Sentiments\")\nplt.xlabel(\"Sentiment Score\")\nplt.ylabel(\"Number of Reviews\")\nplt.grid(axis=\"y\", linestyle=\"--\", alpha=0.7)\nplt.show()\n",
      "execution_count": null,
      "outputs": []
    },
    {
      "cell_type": "markdown",
      "id": "e5137071-7b70-44f1-afac-2396cc03833f",
      "metadata": {
        "collapsed": false,
        "codeCollapsed": true
      },
      "source": "# Conclusion\nIn this template, we've demonstrated how to analyze unstructured customer reviews using Snowflake Cortex. \n\nBy following these steps, you now have a replicable process for understanding whether customer reviews express positive, neutral, or negative sentiments.\n\nTo learn more about Cortex Sentiment or Cortex LLM Functions, check out the [Snowflake Cortex documentation](https://docs.snowflake.com/en/user-guide/snowflake-cortex/llm-functions) and the [Cortex Sentiment documentation](https://docs.snowflake.com/en/sql-reference/functions/sentiment-snowflake-cortex).\n",
      "outputs": []
    }
  ]
}