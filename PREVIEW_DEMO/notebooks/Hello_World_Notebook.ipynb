{
  "cells": [
    {
      "cell_type": "markdown",
      "id": "15dd521f",
      "metadata": {
        "codeCollapsed": true,
        "collapsed": false
      },
      "source": "# SUPER SIMPLE hello world notebook :) \nEasy data exploration with pandas and matplotlib.",
      "outputs": []
    },
    {
      "id": "3c2940ec-e8d6-4333-a214-024bc148f239",
      "cell_type": "code",
      "metadata": {
        "resultVariableName": "dataframe_1",
        "language": "sql"
      },
      "source": "USE ROLE PUBLIC;\nUSE SNOWPUBLIC.NOTEBOOKS;\nselect 12;",
      "outputs": []
    },
    {
      "cell_type": "code",
      "execution_count": null,
      "id": "d7158918",
      "metadata": {},
      "source": "import pandas as pd\nimport matplotlib.pyplot as plt",
      "outputs": []
    },
    {
      "id": "c76b65e1-e7f4-40fd-be02-e8d53fc36d8a",
      "cell_type": "code",
      "metadata": {
        "language": "sql",
        "resultVariableName": "dataframe_2"
      },
      "source": "CREATE OR REPLACE TABLE STUDY_DATA (\n    Name STRING,\n    Age INT,\n    Score INT,\n    Hours_Studied INT,\n    Sleep_Hours INT\n);\n\nINSERT INTO STUDY_DATA (Name, Age, Score, Hours_Studied, Sleep_Hours) VALUES\n    ('Alice', 24, 85, 10, 7),\n    ('Bob', 27, 90, 12, 6),\n    ('Charlie', 22, 78, 8, 8),\n    ('Diana', 32, 88, 15, 5),\n    ('Ethan', 29, 92, 14, 7),\n    ('Fiona', 26, 81, 9, 6),\n    ('George', 28, 87, 11, 7);\n\n\nSELECT * FROM STUDY_DATA;\n",
      "outputs": []
    },
    {
      "id": "6d413269-c8f1-436c-8341-30c16862cb2a",
      "cell_type": "code",
      "metadata": {
        "language": "python"
      },
      "source": "df = dataframe_2\nprint(df)",
      "outputs": []
    },
    {
      "cell_type": "code",
      "execution_count": null,
      "id": "1d1a174d",
      "metadata": {},
      "source": "# Average score\navg_score = df['SCORE'].mean()\nprint(f'Average Score: {avg_score:.2f}')\n\n# Correlations\ncorr_study = df['HOURS_STUDIED'].corr(df['SCORE'])\ncorr_sleep = df['SLEEP_HOURS'].corr(df['SCORE'])\nprint(f'Correlation between Hours Studied and Score: {corr_study:.2f}')\nprint(f'Correlation between Sleep Hours and Score: {corr_sleep:.2f}')",
      "outputs": []
    },
    {
      "cell_type": "code",
      "execution_count": null,
      "id": "cdc8edc8",
      "metadata": {},
      "source": "# Bar chart of scores\ndf.plot(x='NAME', y='SCORE', kind='bar', legend=False)\nplt.title('Scores by Person')\nplt.ylabel('Score')\nplt.show()",
      "outputs": []
    },
    {
      "cell_type": "code",
      "execution_count": null,
      "id": "cc8380de",
      "metadata": {},
      "source": "# Scatter plot of Hours Studied vs Score\ndf.plot(kind='scatter', x='HOURS_STUDIED', y='SCORE')\nplt.title('Hours Studied vs Score')\nplt.show()",
      "outputs": []
    },
    {
      "cell_type": "code",
      "execution_count": null,
      "id": "551ba9e7",
      "metadata": {},
      "source": "# Scatter plot of Sleep Hours vs Score\ndf.plot(kind='scatter', x='SLEEP_HOURS', y='SCORE')\nplt.title('Sleep Hours vs Score')\nplt.show()",
      "outputs": []
    }
  ],
  "metadata": {},
  "nbformat": 4,
  "nbformat_minor": 5
}