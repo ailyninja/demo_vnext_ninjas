{
  "cells": [
    {
      "cell_type": "markdown",
      "metadata": {
        "codeCollapsed": true,
        "collapsed": false
      },
      "source": "## Chapter 6 – Decision Trees",
      "id": "7e6f34a0-f597-4d1d-a331-cffef22e506c",
      "outputs": []
    },
    {
      "cell_type": "markdown",
      "metadata": {
        "codeCollapsed": true,
        "collapsed": false
      },
      "source": "_This notebook contains all the sample code and solutions to the exercises in chapter 6._",
      "id": "4bfd3068-b2af-4a16-87d0-a0372478988c",
      "outputs": []
    },
    {
      "cell_type": "markdown",
      "metadata": {
        "codeCollapsed": true
      },
      "source": "# Setup",
      "id": "7efa9494-b54e-430b-9a2a-19a1f511fd8b",
      "outputs": []
    },
    {
      "cell_type": "markdown",
      "metadata": {
        "codeCollapsed": true
      },
      "source": "First, let's import a few common modules, ensure MatplotLib plots figures inline and prepare a function to save the figures. We also check that Python 3.5 or later is installed (although Python 2.x may work, it is deprecated so we strongly recommend you use Python 3 instead), as well as Scikit-Learn ≥0.20.",
      "id": "1daab51e-3729-4de9-ad40-7a8c04563da3",
      "outputs": []
    },
    {
      "cell_type": "code",
      "execution_count": 1,
      "metadata": {},
      "source": "# Python ≥3.5 is required\nimport sys\nassert sys.version_info >= (3, 5)\n\n# Scikit-Learn ≥0.20 is required\nimport sklearn\nassert sklearn.__version__ >= \"0.20\"\n\n# Common imports\nimport numpy as np\nimport os\n\n# to make this notebook's output stable across runs\nnp.random.seed(42)\n\n# To plot pretty figures\n%matplotlib inline\nimport matplotlib as mpl\nimport matplotlib.pyplot as plt\nmpl.rc('axes', labelsize=14)\nmpl.rc('xtick', labelsize=12)\nmpl.rc('ytick', labelsize=12)\n\n# Where to save the figures\nPROJECT_ROOT_DIR = \".\"\nCHAPTER_ID = \"decision_trees\"\nIMAGES_PATH = os.path.join(PROJECT_ROOT_DIR, \"images\", CHAPTER_ID)\nos.makedirs(IMAGES_PATH, exist_ok=True)\n\ndef save_fig(fig_id, tight_layout=True, fig_extension=\"png\", resolution=300):\n    path = os.path.join(IMAGES_PATH, fig_id + \".\" + fig_extension)\n    print(\"Saving figure\", fig_id)\n    if tight_layout:\n        plt.tight_layout()\n    plt.savefig(path, format=fig_extension, dpi=resolution)",
      "id": "258a197c-1a2d-4445-bc6d-d67b79c99d1b",
      "outputs": []
    },
    {
      "cell_type": "markdown",
      "metadata": {
        "codeCollapsed": true
      },
      "source": "# Training and Visualizing a Decision Tree",
      "id": "08ecd27b-c997-466f-aa79-c7ef1dc944be",
      "outputs": []
    },
    {
      "cell_type": "code",
      "execution_count": 2,
      "metadata": {},
      "source": "from sklearn.datasets import load_iris\nfrom sklearn.tree import DecisionTreeClassifier\n\niris = load_iris()\nX = iris.data[:, 2:] # petal length and width\ny = iris.target\n\ntree_clf = DecisionTreeClassifier(max_depth=2, random_state=42)\ntree_clf.fit(X, y)",
      "id": "d74fd111-906d-44ba-a9a0-599260455236",
      "outputs": []
    },
    {
      "cell_type": "markdown",
      "metadata": {
        "codeCollapsed": true
      },
      "source": "**This code example generates Figure 6–1. Iris Decision Tree:**",
      "id": "587ff0da-5442-4053-900c-3eb3dd5d7d35",
      "outputs": []
    },
    {
      "cell_type": "code",
      "execution_count": 3,
      "metadata": {},
      "source": "from graphviz import Source\nfrom sklearn.tree import export_graphviz\n\nexport_graphviz(\n        tree_clf,\n        out_file=os.path.join(IMAGES_PATH, \"iris_tree.dot\"),\n        feature_names=iris.feature_names[2:],\n        class_names=iris.target_names,\n        rounded=True,\n        filled=True\n    )\n\nSource.from_file(os.path.join(IMAGES_PATH, \"iris_tree.dot\"))",
      "id": "76245435-169d-49f2-b4f2-6efd675ef1fb",
      "outputs": []
    },
    {
      "cell_type": "markdown",
      "metadata": {
        "codeCollapsed": true
      },
      "source": "## Making Predictions",
      "id": "8ee45d3b-ae58-45b6-b051-af6cf9306782",
      "outputs": []
    },
    {
      "cell_type": "markdown",
      "metadata": {
        "codeCollapsed": true
      },
      "source": "**Code to generate Figure 6–2. Decision Tree decision boundaries**",
      "id": "872b8158-4caf-417d-8674-1a30bde977a6",
      "outputs": []
    },
    {
      "cell_type": "code",
      "execution_count": 4,
      "metadata": {},
      "source": "from matplotlib.colors import ListedColormap\n\ndef plot_decision_boundary(clf, X, y, axes=[0, 7.5, 0, 3], iris=True, legend=False, plot_training=True):\n    x1s = np.linspace(axes[0], axes[1], 100)\n    x2s = np.linspace(axes[2], axes[3], 100)\n    x1, x2 = np.meshgrid(x1s, x2s)\n    X_new = np.c_[x1.ravel(), x2.ravel()]\n    y_pred = clf.predict(X_new).reshape(x1.shape)\n    custom_cmap = ListedColormap(['#fafab0','#9898ff','#a0faa0'])\n    plt.contourf(x1, x2, y_pred, alpha=0.3, cmap=custom_cmap)\n    if not iris:\n        custom_cmap2 = ListedColormap(['#7d7d58','#4c4c7f','#507d50'])\n        plt.contour(x1, x2, y_pred, cmap=custom_cmap2, alpha=0.8)\n    if plot_training:\n        plt.plot(X[:, 0][y==0], X[:, 1][y==0], \"yo\", label=\"Iris setosa\")\n        plt.plot(X[:, 0][y==1], X[:, 1][y==1], \"bs\", label=\"Iris versicolor\")\n        plt.plot(X[:, 0][y==2], X[:, 1][y==2], \"g^\", label=\"Iris virginica\")\n        plt.axis(axes)\n    if iris:\n        plt.xlabel(\"Petal length\", fontsize=14)\n        plt.ylabel(\"Petal width\", fontsize=14)\n    else:\n        plt.xlabel(r\"$x_1$\", fontsize=18)\n        plt.ylabel(r\"$x_2$\", fontsize=18, rotation=0)\n    if legend:\n        plt.legend(loc=\"lower right\", fontsize=14)\n\nplt.figure(figsize=(8, 4))\nplot_decision_boundary(tree_clf, X, y)\nplt.plot([2.45, 2.45], [0, 3], \"k-\", linewidth=2)\nplt.plot([2.45, 7.5], [1.75, 1.75], \"k--\", linewidth=2)\nplt.plot([4.95, 4.95], [0, 1.75], \"k:\", linewidth=2)\nplt.plot([4.85, 4.85], [1.75, 3], \"k:\", linewidth=2)\nplt.text(1.40, 1.0, \"Depth=0\", fontsize=15)\nplt.text(3.2, 1.80, \"Depth=1\", fontsize=13)\nplt.text(4.05, 0.5, \"(Depth=2)\", fontsize=11)\n\nsave_fig(\"decision_tree_decision_boundaries_plot\")\nplt.show()",
      "id": "09de8385-8a74-431c-9a43-f59638101189",
      "outputs": []
    },
    {
      "cell_type": "markdown",
      "metadata": {
        "codeCollapsed": true
      },
      "source": "# Estimating Class Probabilities",
      "id": "ae5d332c-e46c-4c51-b101-7e4fbfb72058",
      "outputs": []
    },
    {
      "cell_type": "code",
      "execution_count": 5,
      "metadata": {},
      "source": "tree_clf.predict_proba([[5, 1.5]])",
      "id": "ecfabf9d-89f1-4139-bda8-345002d7296c",
      "outputs": []
    },
    {
      "cell_type": "code",
      "execution_count": 6,
      "metadata": {},
      "source": "tree_clf.predict([[5, 1.5]])",
      "id": "ab4a32a3-5f29-410d-9f8b-d84f94eb4f7d",
      "outputs": []
    },
    {
      "cell_type": "markdown",
      "metadata": {
        "codeCollapsed": true
      },
      "source": "## Regularization Hyperparameters",
      "id": "3dea9a17-f81b-46e8-9036-8dd13ccede3a",
      "outputs": []
    },
    {
      "cell_type": "markdown",
      "metadata": {
        "codeCollapsed": true
      },
      "source": "We've seen that small changes in the dataset (such as a rotation) may produce a very different Decision Tree.\nNow let's show that training the same model on the same data may produce a very different model every time, since the CART training algorithm used by Scikit-Learn is stochastic. To show this, we will set `random_state` to a different value than earlier:",
      "id": "ccfee5a4-ec2b-4888-a539-a7848cbe1a39",
      "outputs": []
    },
    {
      "cell_type": "code",
      "execution_count": 7,
      "metadata": {},
      "source": "tree_clf_tweaked = DecisionTreeClassifier(max_depth=2, random_state=40)\ntree_clf_tweaked.fit(X, y)",
      "id": "6bb11cea-f05e-444c-83c1-5975d8ba246c",
      "outputs": []
    },
    {
      "cell_type": "markdown",
      "metadata": {
        "codeCollapsed": true
      },
      "source": "**Code to generate Figure 6–8. Sensitivity to training set details:**",
      "id": "d0e97384-52ad-483e-b63c-30b504e243b4",
      "outputs": []
    },
    {
      "cell_type": "code",
      "execution_count": 8,
      "metadata": {},
      "source": "plt.figure(figsize=(8, 4))\nplot_decision_boundary(tree_clf_tweaked, X, y, legend=False)\nplt.plot([0, 7.5], [0.8, 0.8], \"k-\", linewidth=2)\nplt.plot([0, 7.5], [1.75, 1.75], \"k--\", linewidth=2)\nplt.text(1.0, 0.9, \"Depth=0\", fontsize=15)\nplt.text(1.0, 1.80, \"Depth=1\", fontsize=13)\n\nsave_fig(\"decision_tree_instability_plot\")\nplt.show()",
      "id": "b9890cf4-1c0e-4e34-8905-a3dbd83a7330",
      "outputs": []
    },
    {
      "cell_type": "markdown",
      "metadata": {
        "codeCollapsed": true
      },
      "source": "**Code to generate Figure 6–3. Regularization using min_samples_leaf:**",
      "id": "5ed3f54c-d7f0-4cc6-b393-7e82f61e6de9",
      "outputs": []
    },
    {
      "cell_type": "code",
      "execution_count": 9,
      "metadata": {},
      "source": "from sklearn.datasets import make_moons\nXm, ym = make_moons(n_samples=100, noise=0.25, random_state=53)\n\ndeep_tree_clf1 = DecisionTreeClassifier(random_state=42)\ndeep_tree_clf2 = DecisionTreeClassifier(min_samples_leaf=4, random_state=42)\ndeep_tree_clf1.fit(Xm, ym)\ndeep_tree_clf2.fit(Xm, ym)\n\nfig, axes = plt.subplots(ncols=2, figsize=(10, 4), sharey=True)\nplt.sca(axes[0])\nplot_decision_boundary(deep_tree_clf1, Xm, ym, axes=[-1.5, 2.4, -1, 1.5], iris=False)\nplt.title(\"No restrictions\", fontsize=16)\nplt.sca(axes[1])\nplot_decision_boundary(deep_tree_clf2, Xm, ym, axes=[-1.5, 2.4, -1, 1.5], iris=False)\nplt.title(\"min_samples_leaf = {}\".format(deep_tree_clf2.min_samples_leaf), fontsize=14)\nplt.ylabel(\"\")\n\nsave_fig(\"min_samples_leaf_plot\")\nplt.show()",
      "id": "b0a0ad7b-6568-42f1-9584-b8d6f2ee8d6d",
      "outputs": []
    },
    {
      "cell_type": "markdown",
      "metadata": {
        "codeCollapsed": true
      },
      "source": "Rotating the dataset also leads to completely different decision boundaries:",
      "id": "15ea0dfe-7931-4cb9-8b4d-37254b5ea2f2",
      "outputs": []
    },
    {
      "cell_type": "code",
      "execution_count": 10,
      "metadata": {},
      "source": "angle = np.pi / 180 * 20\nrotation_matrix = np.array([[np.cos(angle), -np.sin(angle)], [np.sin(angle), np.cos(angle)]])\nXr = X.dot(rotation_matrix)\n\ntree_clf_r = DecisionTreeClassifier(random_state=42)\ntree_clf_r.fit(Xr, y)\n\nplt.figure(figsize=(8, 3))\nplot_decision_boundary(tree_clf_r, Xr, y, axes=[0.5, 7.5, -1.0, 1], iris=False)\n\nplt.show()",
      "id": "7f35be30-390a-4239-8b6a-994d9b7b3a48",
      "outputs": []
    },
    {
      "cell_type": "markdown",
      "metadata": {
        "codeCollapsed": true
      },
      "source": "**Code to generate Figure 6–7. Sensitivity to training set rotation**",
      "id": "3eea63bc-7327-4625-8732-9c674eefa646",
      "outputs": []
    },
    {
      "cell_type": "code",
      "execution_count": 11,
      "metadata": {},
      "source": "np.random.seed(6)\nXs = np.random.rand(100, 2) - 0.5\nys = (Xs[:, 0] > 0).astype(np.float32) * 2\n\nangle = np.pi / 4\nrotation_matrix = np.array([[np.cos(angle), -np.sin(angle)], [np.sin(angle), np.cos(angle)]])\nXsr = Xs.dot(rotation_matrix)\n\ntree_clf_s = DecisionTreeClassifier(random_state=42)\ntree_clf_s.fit(Xs, ys)\ntree_clf_sr = DecisionTreeClassifier(random_state=42)\ntree_clf_sr.fit(Xsr, ys)\n\nfig, axes = plt.subplots(ncols=2, figsize=(10, 4), sharey=True)\nplt.sca(axes[0])\nplot_decision_boundary(tree_clf_s, Xs, ys, axes=[-0.7, 0.7, -0.7, 0.7], iris=False)\nplt.sca(axes[1])\nplot_decision_boundary(tree_clf_sr, Xsr, ys, axes=[-0.7, 0.7, -0.7, 0.7], iris=False)\nplt.ylabel(\"\")\n\nsave_fig(\"sensitivity_to_rotation_plot\")\nplt.show()",
      "id": "0ec08204-726a-4aa9-8cab-04a6c11c6388",
      "outputs": []
    },
    {
      "cell_type": "markdown",
      "metadata": {
        "codeCollapsed": true
      },
      "source": "# Regression",
      "id": "2f9f46ab-d241-452b-b23c-518440c1f762",
      "outputs": []
    },
    {
      "cell_type": "markdown",
      "metadata": {
        "codeCollapsed": true
      },
      "source": "Let's prepare a simple linear dataset:",
      "id": "770201c7-1e2c-4e34-ba5f-4f4393952927",
      "outputs": []
    },
    {
      "cell_type": "code",
      "execution_count": 12,
      "metadata": {},
      "source": "# Quadratic training set + noise\nnp.random.seed(42)\nm = 200\nX = np.random.rand(m, 1)\ny = 4 * (X - 0.5) ** 2\ny = y + np.random.randn(m, 1) / 10",
      "id": "9259310a-a8d7-41a0-b884-9923d3927088",
      "outputs": []
    },
    {
      "cell_type": "markdown",
      "metadata": {
        "codeCollapsed": true
      },
      "source": "**Code example:**",
      "id": "93ba8d61-fdd5-449b-aa6c-611527545b43",
      "outputs": []
    },
    {
      "cell_type": "code",
      "execution_count": 13,
      "metadata": {},
      "source": "from sklearn.tree import DecisionTreeRegressor\n\ntree_reg = DecisionTreeRegressor(max_depth=2, random_state=42)\ntree_reg.fit(X, y)",
      "id": "3b1b8a9d-00b5-4d72-a01f-7e3e166cc126",
      "outputs": []
    },
    {
      "cell_type": "markdown",
      "metadata": {
        "codeCollapsed": true
      },
      "source": "**Code to generate Figure 6–5. Predictions of two Decision Tree regression models:**",
      "id": "217ed891-9f41-4e73-bfe6-78c84e551250",
      "outputs": []
    },
    {
      "cell_type": "code",
      "execution_count": 14,
      "metadata": {},
      "source": "from sklearn.tree import DecisionTreeRegressor\n\ntree_reg1 = DecisionTreeRegressor(random_state=42, max_depth=2)\ntree_reg2 = DecisionTreeRegressor(random_state=42, max_depth=3)\ntree_reg1.fit(X, y)\ntree_reg2.fit(X, y)\n\ndef plot_regression_predictions(tree_reg, X, y, axes=[0, 1, -0.2, 1], ylabel=\"$y$\"):\n    x1 = np.linspace(axes[0], axes[1], 500).reshape(-1, 1)\n    y_pred = tree_reg.predict(x1)\n    plt.axis(axes)\n    plt.xlabel(\"$x_1$\", fontsize=18)\n    if ylabel:\n        plt.ylabel(ylabel, fontsize=18, rotation=0)\n    plt.plot(X, y, \"b.\")\n    plt.plot(x1, y_pred, \"r.-\", linewidth=2, label=r\"$\\hat{y}$\")\n\nfig, axes = plt.subplots(ncols=2, figsize=(10, 4), sharey=True)\nplt.sca(axes[0])\nplot_regression_predictions(tree_reg1, X, y)\nfor split, style in ((0.1973, \"k-\"), (0.0917, \"k--\"), (0.7718, \"k--\")):\n    plt.plot([split, split], [-0.2, 1], style, linewidth=2)\nplt.text(0.21, 0.65, \"Depth=0\", fontsize=15)\nplt.text(0.01, 0.2, \"Depth=1\", fontsize=13)\nplt.text(0.65, 0.8, \"Depth=1\", fontsize=13)\nplt.legend(loc=\"upper center\", fontsize=18)\nplt.title(\"max_depth=2\", fontsize=14)\n\nplt.sca(axes[1])\nplot_regression_predictions(tree_reg2, X, y, ylabel=None)\nfor split, style in ((0.1973, \"k-\"), (0.0917, \"k--\"), (0.7718, \"k--\")):\n    plt.plot([split, split], [-0.2, 1], style, linewidth=2)\nfor split in (0.0458, 0.1298, 0.2873, 0.9040):\n    plt.plot([split, split], [-0.2, 1], \"k:\", linewidth=1)\nplt.text(0.3, 0.5, \"Depth=2\", fontsize=13)\nplt.title(\"max_depth=3\", fontsize=14)\n\nsave_fig(\"tree_regression_plot\")\nplt.show()",
      "id": "4da37178-8c88-4e96-a715-ddf3560d3003",
      "outputs": []
    },
    {
      "cell_type": "markdown",
      "metadata": {
        "codeCollapsed": true
      },
      "source": "**Code to generate Figure 6-4. A Decision Tree for regression:**",
      "id": "e96b2b2c-1938-444c-918d-ef3a1d701929",
      "outputs": []
    },
    {
      "cell_type": "code",
      "execution_count": 15,
      "metadata": {},
      "source": "export_graphviz(\n        tree_reg1,\n        out_file=os.path.join(IMAGES_PATH, \"regression_tree.dot\"),\n        feature_names=[\"x1\"],\n        rounded=True,\n        filled=True\n    )",
      "id": "689737e9-7d15-4db6-85d6-7da6511a11d5",
      "outputs": []
    },
    {
      "cell_type": "code",
      "execution_count": 16,
      "metadata": {},
      "source": "Source.from_file(os.path.join(IMAGES_PATH, \"regression_tree.dot\"))",
      "id": "a108e615-4305-438d-9dc9-b150bb7dd21e",
      "outputs": []
    },
    {
      "cell_type": "markdown",
      "metadata": {
        "codeCollapsed": true
      },
      "source": "**Code to generate Figure 6–6. Regularizing a Decision Tree regressor:**",
      "id": "38310e08-df0d-4e3e-949b-239cab8a074c",
      "outputs": []
    },
    {
      "cell_type": "code",
      "execution_count": 17,
      "metadata": {},
      "source": "tree_reg1 = DecisionTreeRegressor(random_state=42)\ntree_reg2 = DecisionTreeRegressor(random_state=42, min_samples_leaf=10)\ntree_reg1.fit(X, y)\ntree_reg2.fit(X, y)\n\nx1 = np.linspace(0, 1, 500).reshape(-1, 1)\ny_pred1 = tree_reg1.predict(x1)\ny_pred2 = tree_reg2.predict(x1)\n\nfig, axes = plt.subplots(ncols=2, figsize=(10, 4), sharey=True)\n\nplt.sca(axes[0])\nplt.plot(X, y, \"b.\")\nplt.plot(x1, y_pred1, \"r.-\", linewidth=2, label=r\"$\\hat{y}$\")\nplt.axis([0, 1, -0.2, 1.1])\nplt.xlabel(\"$x_1$\", fontsize=18)\nplt.ylabel(\"$y$\", fontsize=18, rotation=0)\nplt.legend(loc=\"upper center\", fontsize=18)\nplt.title(\"No restrictions\", fontsize=14)\n\nplt.sca(axes[1])\nplt.plot(X, y, \"b.\")\nplt.plot(x1, y_pred2, \"r.-\", linewidth=2, label=r\"$\\hat{y}$\")\nplt.axis([0, 1, -0.2, 1.1])\nplt.xlabel(\"$x_1$\", fontsize=18)\nplt.title(\"min_samples_leaf={}\".format(tree_reg2.min_samples_leaf), fontsize=14)\n\nsave_fig(\"tree_regression_regularization_plot\")\nplt.show()",
      "id": "3c963507-8881-40fb-8f06-f964480ce032",
      "outputs": []
    },
    {
      "cell_type": "markdown",
      "metadata": {
        "codeCollapsed": true
      },
      "source": "# Exercise solutions",
      "id": "38e19670-1da6-424f-bf5f-220c8485bc88",
      "outputs": []
    },
    {
      "cell_type": "markdown",
      "metadata": {
        "codeCollapsed": true
      },
      "source": "## 1. to 6.",
      "id": "4ab31980-f24f-4919-bdd5-e9e6db763afe",
      "outputs": []
    },
    {
      "cell_type": "markdown",
      "metadata": {
        "codeCollapsed": true
      },
      "source": "See appendix A.",
      "id": "b0731d1c-ec39-41c9-a19f-1197ee4e6e90",
      "outputs": []
    },
    {
      "cell_type": "markdown",
      "metadata": {
        "codeCollapsed": true
      },
      "source": "## 7.",
      "id": "73118f6e-970d-4921-84ff-d33ec1736b16",
      "outputs": []
    },
    {
      "cell_type": "markdown",
      "metadata": {
        "codeCollapsed": true
      },
      "source": "_Exercise: train and fine-tune a Decision Tree for the moons dataset._",
      "id": "68cd41c1-4f7d-4847-aedc-76d4428d48b7",
      "outputs": []
    },
    {
      "cell_type": "markdown",
      "metadata": {
        "codeCollapsed": true
      },
      "source": "a. Generate a moons dataset using `make_moons(n_samples=10000, noise=0.4)`.",
      "id": "4337826b-0850-405f-982f-5a79895d22fa",
      "outputs": []
    },
    {
      "cell_type": "markdown",
      "metadata": {
        "codeCollapsed": true
      },
      "source": "Adding `random_state=42` to make this notebook's output constant:",
      "id": "5a80a1d9-cd44-455a-b064-23e6c420ac77",
      "outputs": []
    },
    {
      "cell_type": "code",
      "execution_count": 18,
      "metadata": {},
      "source": "from sklearn.datasets import make_moons\n\nX, y = make_moons(n_samples=10000, noise=0.4, random_state=42)",
      "id": "e4709b8b-a85e-47a2-81f3-4b766ee0fcbe",
      "outputs": []
    },
    {
      "cell_type": "markdown",
      "metadata": {
        "codeCollapsed": true
      },
      "source": "b. Split it into a training set and a test set using `train_test_split()`.",
      "id": "9c1c2619-2114-42bc-859f-30050d8b73bf",
      "outputs": []
    },
    {
      "cell_type": "code",
      "execution_count": 19,
      "metadata": {},
      "source": "from sklearn.model_selection import train_test_split\n\nX_train, X_test, y_train, y_test = train_test_split(X, y, test_size=0.2, random_state=42)",
      "id": "83c42180-51f4-477a-b99b-9a5c87cb8461",
      "outputs": []
    },
    {
      "cell_type": "markdown",
      "metadata": {
        "codeCollapsed": true
      },
      "source": "c. Use grid search with cross-validation (with the help of the `GridSearchCV` class) to find good hyperparameter values for a `DecisionTreeClassifier`. Hint: try various values for `max_leaf_nodes`.",
      "id": "f46711c2-6b4d-4d1f-8db3-36168998eabd",
      "outputs": []
    },
    {
      "cell_type": "code",
      "execution_count": 20,
      "metadata": {},
      "source": "from sklearn.model_selection import GridSearchCV\n\nparams = {'max_leaf_nodes': list(range(2, 100)), 'min_samples_split': [2, 3, 4]}\ngrid_search_cv = GridSearchCV(DecisionTreeClassifier(random_state=42), params, verbose=1, cv=3)\n\ngrid_search_cv.fit(X_train, y_train)",
      "id": "13271f82-8dda-4606-9ea1-1ebace42536c",
      "outputs": []
    },
    {
      "cell_type": "code",
      "execution_count": 21,
      "metadata": {},
      "source": "grid_search_cv.best_estimator_",
      "id": "3f51a200-25ae-457a-9e00-930ddd58ee25",
      "outputs": []
    },
    {
      "cell_type": "markdown",
      "metadata": {
        "codeCollapsed": true
      },
      "source": "d. Train it on the full training set using these hyperparameters, and measure your model's performance on the test set. You should get roughly 85% to 87% accuracy.",
      "id": "b0dad25c-d677-4e88-9919-16da5f227873",
      "outputs": []
    },
    {
      "cell_type": "markdown",
      "metadata": {
        "codeCollapsed": true
      },
      "source": "By default, `GridSearchCV` trains the best model found on the whole training set (you can change this by setting `refit=False`), so we don't need to do it again. We can simply evaluate the model's accuracy:",
      "id": "c61dddc9-eca7-4d89-9cc0-09ba14624346",
      "outputs": []
    },
    {
      "cell_type": "code",
      "execution_count": 22,
      "metadata": {},
      "source": "from sklearn.metrics import accuracy_score\n\ny_pred = grid_search_cv.predict(X_test)\naccuracy_score(y_test, y_pred)",
      "id": "cb091706-9a80-432b-902d-dc5afdc7d382",
      "outputs": []
    },
    {
      "cell_type": "markdown",
      "metadata": {
        "codeCollapsed": true
      },
      "source": "## 8.",
      "id": "28fc0535-b5d6-4cd1-9a11-73340f4a9e6d",
      "outputs": []
    },
    {
      "cell_type": "markdown",
      "metadata": {
        "codeCollapsed": true
      },
      "source": "_Exercise: Grow a forest._",
      "id": "e1d732de-0dcf-4f04-a847-53e13ea01536",
      "outputs": []
    },
    {
      "cell_type": "markdown",
      "metadata": {
        "codeCollapsed": true
      },
      "source": "a. Continuing the previous exercise, generate 1,000 subsets of the training set, each containing 100 instances selected randomly. Hint: you can use Scikit-Learn's `ShuffleSplit` class for this.",
      "id": "42973b8b-8099-4619-a1b2-18e44d323fce",
      "outputs": []
    },
    {
      "cell_type": "code",
      "execution_count": 23,
      "metadata": {},
      "source": "from sklearn.model_selection import ShuffleSplit\n\nn_trees = 1000\nn_instances = 100\n\nmini_sets = []\n\nrs = ShuffleSplit(n_splits=n_trees, test_size=len(X_train) - n_instances, random_state=42)\nfor mini_train_index, mini_test_index in rs.split(X_train):\n    X_mini_train = X_train[mini_train_index]\n    y_mini_train = y_train[mini_train_index]\n    mini_sets.append((X_mini_train, y_mini_train))",
      "id": "5ab21caf-6380-48e5-ac60-b2963337d9f7",
      "outputs": []
    },
    {
      "cell_type": "markdown",
      "metadata": {
        "codeCollapsed": true
      },
      "source": "b. Train one Decision Tree on each subset, using the best hyperparameter values found above. Evaluate these 1,000 Decision Trees on the test set. Since they were trained on smaller sets, these Decision Trees will likely perform worse than the first Decision Tree, achieving only about 80% accuracy.",
      "id": "78bf63a4-f7bb-4e84-8dbd-45b0d7597f42",
      "outputs": []
    },
    {
      "cell_type": "code",
      "execution_count": 24,
      "metadata": {},
      "source": "from sklearn.base import clone\n\nforest = [clone(grid_search_cv.best_estimator_) for _ in range(n_trees)]\n\naccuracy_scores = []\n\nfor tree, (X_mini_train, y_mini_train) in zip(forest, mini_sets):\n    tree.fit(X_mini_train, y_mini_train)\n    \n    y_pred = tree.predict(X_test)\n    accuracy_scores.append(accuracy_score(y_test, y_pred))\n\nnp.mean(accuracy_scores)",
      "id": "67438551-3a4c-48f5-83e7-75351d838674",
      "outputs": []
    },
    {
      "cell_type": "markdown",
      "metadata": {
        "codeCollapsed": true
      },
      "source": "c. Now comes the magic. For each test set instance, generate the predictions of the 1,000 Decision Trees, and keep only the most frequent prediction (you can use SciPy's `mode()` function for this). This gives you _majority-vote predictions_ over the test set.",
      "id": "ae1470cf-7437-41a0-b44b-0b9cc84633b7",
      "outputs": []
    },
    {
      "cell_type": "code",
      "execution_count": 25,
      "metadata": {},
      "source": "Y_pred = np.empty([n_trees, len(X_test)], dtype=np.uint8)\n\nfor tree_index, tree in enumerate(forest):\n    Y_pred[tree_index] = tree.predict(X_test)",
      "id": "5d7c2b26-ff08-497d-8e36-dc47b47c5f5c",
      "outputs": []
    },
    {
      "cell_type": "code",
      "execution_count": 26,
      "metadata": {},
      "source": "from scipy.stats import mode\n\ny_pred_majority_votes, n_votes = mode(Y_pred, axis=0)",
      "id": "9b81cb8a-683b-4d69-8cde-d20a4c62fb96",
      "outputs": []
    },
    {
      "cell_type": "markdown",
      "metadata": {
        "codeCollapsed": true
      },
      "source": "d. Evaluate these predictions on the test set: you should obtain a slightly higher accuracy than your first model (about 0.5 to 1.5% higher). Congratulations, you have trained a Random Forest classifier!",
      "id": "7799a10a-cfbd-4a11-8048-861d48c424a7",
      "outputs": []
    },
    {
      "cell_type": "code",
      "execution_count": 27,
      "metadata": {},
      "source": "accuracy_score(y_test, y_pred_majority_votes.reshape([-1]))",
      "id": "f03d39e0-7665-441c-8623-eab91f4ad946",
      "outputs": []
    }
  ],
  "metadata": {
    "kernelspec": {
      "display_name": "Python 3",
      "language": "python",
      "name": "python3"
    },
    "language_info": {
      "codemirror_mode": {
        "name": "ipython",
        "version": 3
      },
      "file_extension": ".py",
      "mimetype": "text/x-python",
      "name": "python",
      "nbconvert_exporter": "python",
      "pygments_lexer": "ipython3",
      "version": "3.7.10"
    },
    "nav_menu": {
      "height": "309px",
      "width": "468px"
    },
    "toc": {
      "navigate_menu": true,
      "number_sections": true,
      "sideBar": true,
      "threshold": 6,
      "toc_cell": false,
      "toc_section_display": "block",
      "toc_window_display": false
    }
  },
  "nbformat": 4,
  "nbformat_minor": 4
}