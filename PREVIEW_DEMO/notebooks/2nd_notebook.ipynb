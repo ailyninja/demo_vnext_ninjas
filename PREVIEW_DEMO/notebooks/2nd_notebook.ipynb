{
  "metadata": {
    "kernelspec": {
      "display_name": "Jupyter Notebook",
      "name": "jupyter"
    }
  },
  "nbformat_minor": 5,
  "nbformat": 4,
  "cells": [
    {
      "cell_type": "code",
      "id": "28c1e514-3580-4b20-b382-6b16cef1e3f7",
      "metadata": {
        "language": "python"
      },
      "source": "print(\"vNext is awesome!!! 🤩😎\")",
      "execution_count": null,
      "outputs": []
    }
  ]
}