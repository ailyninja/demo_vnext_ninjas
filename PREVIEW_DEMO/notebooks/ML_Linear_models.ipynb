{
  "cells": [
    {
      "cell_type": "markdown",
      "metadata": {
        "codeCollapsed": true
      },
      "source": "**Chapter 4 – Training Models**",
      "id": "c57af87b-b45f-4ba4-b28e-4911f8668ff7",
      "outputs": []
    },
    {
      "cell_type": "markdown",
      "metadata": {
        "codeCollapsed": true
      },
      "source": "_This notebook contains all the sample code and solutions to the exercises in chapter 4._",
      "id": "c5e51a54-ecd7-48fc-9e8e-42cf44d5ab29",
      "outputs": []
    },
    {
      "cell_type": "markdown",
      "metadata": {
        "codeCollapsed": true,
        "collapsed": false
      },
      "source": "",
      "id": "8132f333-cc4c-4f8d-910c-1d03a2d1d5f2",
      "outputs": []
    },
    {
      "cell_type": "markdown",
      "metadata": {
        "codeCollapsed": true
      },
      "source": "# Setup",
      "id": "c49f6bec-a325-4647-aa2d-1e8a624deb37",
      "outputs": []
    },
    {
      "cell_type": "markdown",
      "metadata": {
        "codeCollapsed": true
      },
      "source": "First, let's import a few common modules, ensure MatplotLib plots figures inline and prepare a function to save the figures. We also check that Python 3.5 or later is installed (although Python 2.x may work, it is deprecated so we strongly recommend you use Python 3 instead), as well as Scikit-Learn ≥0.20.",
      "id": "ebfd03cd-9ed2-4fd1-aa5c-269498fc7fa4",
      "outputs": []
    },
    {
      "cell_type": "code",
      "execution_count": 1,
      "metadata": {},
      "source": "# Python ≥3.5 is required\nimport sys\nassert sys.version_info >= (3, 5)\n\n# Scikit-Learn ≥0.20 is required\nimport sklearn\nassert sklearn.__version__ >= \"0.20\"\n\n# Common imports\nimport numpy as np\nimport os\n\n# to make this notebook's output stable across runs\nnp.random.seed(42)\n\n# To plot pretty figures\n%matplotlib inline\nimport matplotlib as mpl\nimport matplotlib.pyplot as plt\nmpl.rc('axes', labelsize=14)\nmpl.rc('xtick', labelsize=12)\nmpl.rc('ytick', labelsize=12)\n\n# Where to save the figures\nPROJECT_ROOT_DIR = \".\"\nCHAPTER_ID = \"training_linear_models\"\nIMAGES_PATH = os.path.join(PROJECT_ROOT_DIR, \"images\", CHAPTER_ID)\nos.makedirs(IMAGES_PATH, exist_ok=True)\n\ndef save_fig(fig_id, tight_layout=True, fig_extension=\"png\", resolution=300):\n    path = os.path.join(IMAGES_PATH, fig_id + \".\" + fig_extension)\n    print(\"Saving figure\", fig_id)\n    if tight_layout:\n        plt.tight_layout()\n    plt.savefig(path, format=fig_extension, dpi=resolution)",
      "id": "39ad75eb-f649-43ce-b81d-decbb9b1781b",
      "outputs": []
    },
    {
      "cell_type": "markdown",
      "metadata": {
        "codeCollapsed": true
      },
      "source": "# Linear Regression",
      "id": "b968f456-fbd0-4061-98dc-d60bde880fc8",
      "outputs": []
    },
    {
      "cell_type": "markdown",
      "metadata": {
        "codeCollapsed": true
      },
      "source": "## The Normal Equation",
      "id": "8b22df45-60aa-47dc-ab62-00a0490c9afe",
      "outputs": []
    },
    {
      "cell_type": "code",
      "execution_count": 2,
      "metadata": {},
      "source": "import numpy as np\n\nX = 2 * np.random.rand(100, 1)\ny = 4 + 3 * X + np.random.randn(100, 1)",
      "id": "d86945a7-1a94-4b57-9140-adf04f03eb31",
      "outputs": []
    },
    {
      "cell_type": "code",
      "execution_count": 3,
      "metadata": {},
      "source": "plt.plot(X, y, \"b.\")\nplt.xlabel(\"$x_1$\", fontsize=18)\nplt.ylabel(\"$y$\", rotation=0, fontsize=18)\nplt.axis([0, 2, 0, 15])\nsave_fig(\"generated_data_plot\")\nplt.show()",
      "id": "8ca21fd4-6047-46f0-979f-c1092ee9b65e",
      "outputs": []
    },
    {
      "cell_type": "code",
      "execution_count": 4,
      "metadata": {},
      "source": "X_b = np.c_[np.ones((100, 1)), X]  # add x0 = 1 to each instance\ntheta_best = np.linalg.inv(X_b.T.dot(X_b)).dot(X_b.T).dot(y)",
      "id": "9f5c59f2-96f9-44b6-aec7-ab66d2ff9bd2",
      "outputs": []
    },
    {
      "cell_type": "code",
      "execution_count": 5,
      "metadata": {},
      "source": "theta_best",
      "id": "20d651e2-a79f-4e5c-a8a0-3f69c950242f",
      "outputs": []
    },
    {
      "cell_type": "code",
      "execution_count": 6,
      "metadata": {},
      "source": "X_new = np.array([[0], [2]])\nX_new_b = np.c_[np.ones((2, 1)), X_new]  # add x0 = 1 to each instance\ny_predict = X_new_b.dot(theta_best)\ny_predict",
      "id": "4d0fba6e-d43e-4e35-ad30-83401a94dcfa",
      "outputs": []
    },
    {
      "cell_type": "code",
      "execution_count": 7,
      "metadata": {},
      "source": "plt.plot(X_new, y_predict, \"r-\")\nplt.plot(X, y, \"b.\")\nplt.axis([0, 2, 0, 15])\nplt.show()",
      "id": "a2498cc7-7f04-48da-aa01-cd8f4fe763e6",
      "outputs": []
    },
    {
      "cell_type": "markdown",
      "metadata": {
        "codeCollapsed": true
      },
      "source": "The figure in the book actually corresponds to the following code, with a legend and axis labels:",
      "id": "68d6722f-5f00-4fa8-963f-1d8e79955c35",
      "outputs": []
    },
    {
      "cell_type": "code",
      "execution_count": 8,
      "metadata": {},
      "source": "plt.plot(X_new, y_predict, \"r-\", linewidth=2, label=\"Predictions\")\nplt.plot(X, y, \"b.\")\nplt.xlabel(\"$x_1$\", fontsize=18)\nplt.ylabel(\"$y$\", rotation=0, fontsize=18)\nplt.legend(loc=\"upper left\", fontsize=14)\nplt.axis([0, 2, 0, 15])\nsave_fig(\"linear_model_predictions_plot\")\nplt.show()",
      "id": "ef8344e5-6b1a-458f-8ed5-6f961ca417fc",
      "outputs": []
    },
    {
      "cell_type": "code",
      "execution_count": 9,
      "metadata": {},
      "source": "from sklearn.linear_model import LinearRegression\n\nlin_reg = LinearRegression()\nlin_reg.fit(X, y)\nlin_reg.intercept_, lin_reg.coef_",
      "id": "198c9f78-7cf2-419f-851f-f1717ac38645",
      "outputs": []
    },
    {
      "cell_type": "code",
      "execution_count": 10,
      "metadata": {},
      "source": "lin_reg.predict(X_new)",
      "id": "baaca928-7fcb-43bb-b00c-dae949b5c72a",
      "outputs": []
    },
    {
      "cell_type": "markdown",
      "metadata": {
        "codeCollapsed": true
      },
      "source": "The `LinearRegression` class is based on the `scipy.linalg.lstsq()` function (the name stands for \"least squares\"), which you could call directly:",
      "id": "a427f099-6057-40ff-a221-25e5e77a50c0",
      "outputs": []
    },
    {
      "cell_type": "code",
      "execution_count": 11,
      "metadata": {},
      "source": "theta_best_svd, residuals, rank, s = np.linalg.lstsq(X_b, y, rcond=1e-6)\ntheta_best_svd",
      "id": "b5d39d8f-a330-4d28-827f-b9ba03dff463",
      "outputs": []
    },
    {
      "cell_type": "markdown",
      "metadata": {
        "codeCollapsed": true
      },
      "source": "This function computes $\\mathbf{X}^+\\mathbf{y}$, where $\\mathbf{X}^{+}$ is the _pseudoinverse_ of $\\mathbf{X}$ (specifically the Moore-Penrose inverse). You can use `np.linalg.pinv()` to compute the pseudoinverse directly:",
      "id": "ae4c7af8-d3ee-425b-b0ad-c277b5d45c71",
      "outputs": []
    },
    {
      "cell_type": "code",
      "execution_count": 12,
      "metadata": {},
      "source": "np.linalg.pinv(X_b).dot(y)",
      "id": "234c685f-2746-4c93-b06e-e9a231960f93",
      "outputs": []
    },
    {
      "cell_type": "markdown",
      "metadata": {
        "codeCollapsed": true
      },
      "source": "# Gradient Descent\n## Batch Gradient Descent",
      "id": "4158d126-5ac2-4649-ba9f-f6e78b19f62d",
      "outputs": []
    },
    {
      "cell_type": "code",
      "execution_count": 13,
      "metadata": {},
      "source": "eta = 0.1  # learning rate\nn_iterations = 1000\nm = 100\n\ntheta = np.random.randn(2,1)  # random initialization\n\nfor iteration in range(n_iterations):\n    gradients = 2/m * X_b.T.dot(X_b.dot(theta) - y)\n    theta = theta - eta * gradients",
      "id": "93975983-42bd-4b3c-b477-af80ab34bc53",
      "outputs": []
    },
    {
      "cell_type": "code",
      "execution_count": 14,
      "metadata": {},
      "source": "theta",
      "id": "e17131ef-4371-4fde-bb82-0c1f5793728a",
      "outputs": []
    },
    {
      "cell_type": "code",
      "execution_count": 15,
      "metadata": {},
      "source": "X_new_b.dot(theta)",
      "id": "7061412f-0dfd-4b76-a600-36fa83a3eafd",
      "outputs": []
    },
    {
      "cell_type": "code",
      "execution_count": 16,
      "metadata": {},
      "source": "theta_path_bgd = []\n\ndef plot_gradient_descent(theta, eta, theta_path=None):\n    m = len(X_b)\n    plt.plot(X, y, \"b.\")\n    n_iterations = 1000\n    for iteration in range(n_iterations):\n        if iteration < 10:\n            y_predict = X_new_b.dot(theta)\n            style = \"b-\" if iteration > 0 else \"r--\"\n            plt.plot(X_new, y_predict, style)\n        gradients = 2/m * X_b.T.dot(X_b.dot(theta) - y)\n        theta = theta - eta * gradients\n        if theta_path is not None:\n            theta_path.append(theta)\n    plt.xlabel(\"$x_1$\", fontsize=18)\n    plt.axis([0, 2, 0, 15])\n    plt.title(r\"$\\eta = {}$\".format(eta), fontsize=16)",
      "id": "c0d7b4fb-e958-49e4-9c3f-e242841801d9",
      "outputs": []
    },
    {
      "cell_type": "code",
      "execution_count": 17,
      "metadata": {},
      "source": "np.random.seed(42)\ntheta = np.random.randn(2,1)  # random initialization\n\nplt.figure(figsize=(10,4))\nplt.subplot(131); plot_gradient_descent(theta, eta=0.02)\nplt.ylabel(\"$y$\", rotation=0, fontsize=18)\nplt.subplot(132); plot_gradient_descent(theta, eta=0.1, theta_path=theta_path_bgd)\nplt.subplot(133); plot_gradient_descent(theta, eta=0.5)\n\nsave_fig(\"gradient_descent_plot\")\nplt.show()",
      "id": "e0b3cca5-41d4-4b7e-bbac-113f884c19ae",
      "outputs": []
    },
    {
      "cell_type": "markdown",
      "metadata": {
        "codeCollapsed": true
      },
      "source": "## Stochastic Gradient Descent",
      "id": "db4dcdc3-9622-4abf-9993-6359a0d95515",
      "outputs": []
    },
    {
      "cell_type": "code",
      "execution_count": 18,
      "metadata": {},
      "source": "theta_path_sgd = []\nm = len(X_b)\nnp.random.seed(42)",
      "id": "5b1adfaf-7a87-4bd0-8365-cfc75df97f4c",
      "outputs": []
    },
    {
      "cell_type": "code",
      "execution_count": 19,
      "metadata": {},
      "source": "n_epochs = 50\nt0, t1 = 5, 50  # learning schedule hyperparameters\n\ndef learning_schedule(t):\n    return t0 / (t + t1)\n\ntheta = np.random.randn(2,1)  # random initialization\n\nfor epoch in range(n_epochs):\n    for i in range(m):\n        if epoch == 0 and i < 20:                    # not shown in the book\n            y_predict = X_new_b.dot(theta)           # not shown\n            style = \"b-\" if i > 0 else \"r--\"         # not shown\n            plt.plot(X_new, y_predict, style)        # not shown\n        random_index = np.random.randint(m)\n        xi = X_b[random_index:random_index+1]\n        yi = y[random_index:random_index+1]\n        gradients = 2 * xi.T.dot(xi.dot(theta) - yi)\n        eta = learning_schedule(epoch * m + i)\n        theta = theta - eta * gradients\n        theta_path_sgd.append(theta)                 # not shown\n\nplt.plot(X, y, \"b.\")                                 # not shown\nplt.xlabel(\"$x_1$\", fontsize=18)                     # not shown\nplt.ylabel(\"$y$\", rotation=0, fontsize=18)           # not shown\nplt.axis([0, 2, 0, 15])                              # not shown\nsave_fig(\"sgd_plot\")                                 # not shown\nplt.show()                                           # not shown",
      "id": "3da9712d-77e0-439a-a7f8-4155857a8928",
      "outputs": []
    },
    {
      "cell_type": "code",
      "execution_count": 20,
      "metadata": {
        "scrolled": true
      },
      "source": "theta",
      "id": "211744b9-8042-463c-b7f8-5c8345d17a29",
      "outputs": []
    },
    {
      "cell_type": "code",
      "execution_count": 21,
      "metadata": {},
      "source": "from sklearn.linear_model import SGDRegressor\n\nsgd_reg = SGDRegressor(max_iter=1000, tol=1e-3, penalty=None, eta0=0.1, random_state=42)\nsgd_reg.fit(X, y.ravel())",
      "id": "5c8ec079-4c7a-434e-b7e0-a192fcc13638",
      "outputs": []
    },
    {
      "cell_type": "code",
      "execution_count": 22,
      "metadata": {},
      "source": "sgd_reg.intercept_, sgd_reg.coef_",
      "id": "4aab481b-7da6-4f46-acaf-9a32f8e49c4f",
      "outputs": []
    },
    {
      "cell_type": "markdown",
      "metadata": {
        "codeCollapsed": true
      },
      "source": "## Mini-batch gradient descent",
      "id": "d3957441-2da9-49af-a3f8-c478923e8999",
      "outputs": []
    },
    {
      "cell_type": "code",
      "execution_count": 23,
      "metadata": {},
      "source": "theta_path_mgd = []\n\nn_iterations = 50\nminibatch_size = 20\n\nnp.random.seed(42)\ntheta = np.random.randn(2,1)  # random initialization\n\nt0, t1 = 200, 1000\ndef learning_schedule(t):\n    return t0 / (t + t1)\n\nt = 0\nfor epoch in range(n_iterations):\n    shuffled_indices = np.random.permutation(m)\n    X_b_shuffled = X_b[shuffled_indices]\n    y_shuffled = y[shuffled_indices]\n    for i in range(0, m, minibatch_size):\n        t += 1\n        xi = X_b_shuffled[i:i+minibatch_size]\n        yi = y_shuffled[i:i+minibatch_size]\n        gradients = 2/minibatch_size * xi.T.dot(xi.dot(theta) - yi)\n        eta = learning_schedule(t)\n        theta = theta - eta * gradients\n        theta_path_mgd.append(theta)",
      "id": "0dec2f96-dcbd-40b6-9fdd-111db876f4e7",
      "outputs": []
    },
    {
      "cell_type": "code",
      "execution_count": 24,
      "metadata": {},
      "source": "theta",
      "id": "d4e1cfa9-c14e-439f-a311-45a4ccdc0e09",
      "outputs": []
    },
    {
      "cell_type": "code",
      "execution_count": 25,
      "metadata": {},
      "source": "theta_path_bgd = np.array(theta_path_bgd)\ntheta_path_sgd = np.array(theta_path_sgd)\ntheta_path_mgd = np.array(theta_path_mgd)",
      "id": "f28912ed-620f-4f11-b7df-80ecadec9a3b",
      "outputs": []
    },
    {
      "cell_type": "code",
      "execution_count": 26,
      "metadata": {},
      "source": "plt.figure(figsize=(7,4))\nplt.plot(theta_path_sgd[:, 0], theta_path_sgd[:, 1], \"r-s\", linewidth=1, label=\"Stochastic\")\nplt.plot(theta_path_mgd[:, 0], theta_path_mgd[:, 1], \"g-+\", linewidth=2, label=\"Mini-batch\")\nplt.plot(theta_path_bgd[:, 0], theta_path_bgd[:, 1], \"b-o\", linewidth=3, label=\"Batch\")\nplt.legend(loc=\"upper left\", fontsize=16)\nplt.xlabel(r\"$\\theta_0$\", fontsize=20)\nplt.ylabel(r\"$\\theta_1$   \", fontsize=20, rotation=0)\nplt.axis([2.5, 4.5, 2.3, 3.9])\nsave_fig(\"gradient_descent_paths_plot\")\nplt.show()",
      "id": "bcac5e6c-e45f-4743-ba0d-649a5b46058a",
      "outputs": []
    },
    {
      "cell_type": "markdown",
      "metadata": {
        "codeCollapsed": true
      },
      "source": "# Polynomial Regression",
      "id": "59514987-62f6-4840-906a-a42b3b70f4c3",
      "outputs": []
    },
    {
      "cell_type": "code",
      "execution_count": 27,
      "metadata": {},
      "source": "import numpy as np\nimport numpy.random as rnd\n\nnp.random.seed(42)",
      "id": "f50b3293-d75c-4d7a-9c1f-2cf81142bb59",
      "outputs": []
    },
    {
      "cell_type": "code",
      "execution_count": 28,
      "metadata": {},
      "source": "m = 100\nX = 6 * np.random.rand(m, 1) - 3\ny = 0.5 * X**2 + X + 2 + np.random.randn(m, 1)",
      "id": "823b06ff-eb0f-43e5-8864-d59902abe42b",
      "outputs": []
    },
    {
      "cell_type": "code",
      "execution_count": 29,
      "metadata": {},
      "source": "plt.plot(X, y, \"b.\")\nplt.xlabel(\"$x_1$\", fontsize=18)\nplt.ylabel(\"$y$\", rotation=0, fontsize=18)\nplt.axis([-3, 3, 0, 10])\nsave_fig(\"quadratic_data_plot\")\nplt.show()",
      "id": "1db1a9ae-e88f-4b61-b09d-d1b27042b0eb",
      "outputs": []
    },
    {
      "cell_type": "code",
      "execution_count": 30,
      "metadata": {},
      "source": "from sklearn.preprocessing import PolynomialFeatures\npoly_features = PolynomialFeatures(degree=2, include_bias=False)\nX_poly = poly_features.fit_transform(X)\nX[0]",
      "id": "ae4715f5-9a90-491e-9469-b3c32cefc960",
      "outputs": []
    },
    {
      "cell_type": "code",
      "execution_count": 31,
      "metadata": {},
      "source": "X_poly[0]",
      "id": "bd86fe86-0ee3-4085-b644-5e1ac7f4269c",
      "outputs": []
    },
    {
      "cell_type": "code",
      "execution_count": 32,
      "metadata": {},
      "source": "lin_reg = LinearRegression()\nlin_reg.fit(X_poly, y)\nlin_reg.intercept_, lin_reg.coef_",
      "id": "815a6549-8a03-4547-acc3-494f6ecbb983",
      "outputs": []
    },
    {
      "cell_type": "code",
      "execution_count": 33,
      "metadata": {},
      "source": "X_new=np.linspace(-3, 3, 100).reshape(100, 1)\nX_new_poly = poly_features.transform(X_new)\ny_new = lin_reg.predict(X_new_poly)\nplt.plot(X, y, \"b.\")\nplt.plot(X_new, y_new, \"r-\", linewidth=2, label=\"Predictions\")\nplt.xlabel(\"$x_1$\", fontsize=18)\nplt.ylabel(\"$y$\", rotation=0, fontsize=18)\nplt.legend(loc=\"upper left\", fontsize=14)\nplt.axis([-3, 3, 0, 10])\nsave_fig(\"quadratic_predictions_plot\")\nplt.show()",
      "id": "6a3f5aff-734e-47c1-9d73-c3d90cb84e9e",
      "outputs": []
    },
    {
      "cell_type": "code",
      "execution_count": 34,
      "metadata": {},
      "source": "from sklearn.preprocessing import StandardScaler\nfrom sklearn.pipeline import Pipeline\n\nfor style, width, degree in ((\"g-\", 1, 300), (\"b--\", 2, 2), (\"r-+\", 2, 1)):\n    polybig_features = PolynomialFeatures(degree=degree, include_bias=False)\n    std_scaler = StandardScaler()\n    lin_reg = LinearRegression()\n    polynomial_regression = Pipeline([\n            (\"poly_features\", polybig_features),\n            (\"std_scaler\", std_scaler),\n            (\"lin_reg\", lin_reg),\n        ])\n    polynomial_regression.fit(X, y)\n    y_newbig = polynomial_regression.predict(X_new)\n    plt.plot(X_new, y_newbig, style, label=str(degree), linewidth=width)\n\nplt.plot(X, y, \"b.\", linewidth=3)\nplt.legend(loc=\"upper left\")\nplt.xlabel(\"$x_1$\", fontsize=18)\nplt.ylabel(\"$y$\", rotation=0, fontsize=18)\nplt.axis([-3, 3, 0, 10])\nsave_fig(\"high_degree_polynomials_plot\")\nplt.show()",
      "id": "0a9984da-6529-4291-a618-f5d3c71ab354",
      "outputs": []
    },
    {
      "cell_type": "markdown",
      "metadata": {
        "codeCollapsed": true
      },
      "source": "# Learning Curves",
      "id": "c0a2a43f-5de1-4906-a4cc-93c8a9a9f25c",
      "outputs": []
    },
    {
      "cell_type": "code",
      "execution_count": 35,
      "metadata": {},
      "source": "from sklearn.metrics import mean_squared_error\nfrom sklearn.model_selection import train_test_split\n\ndef plot_learning_curves(model, X, y):\n    X_train, X_val, y_train, y_val = train_test_split(X, y, test_size=0.2, random_state=10)\n    train_errors, val_errors = [], []\n    for m in range(1, len(X_train) + 1):\n        model.fit(X_train[:m], y_train[:m])\n        y_train_predict = model.predict(X_train[:m])\n        y_val_predict = model.predict(X_val)\n        train_errors.append(mean_squared_error(y_train[:m], y_train_predict))\n        val_errors.append(mean_squared_error(y_val, y_val_predict))\n\n    plt.plot(np.sqrt(train_errors), \"r-+\", linewidth=2, label=\"train\")\n    plt.plot(np.sqrt(val_errors), \"b-\", linewidth=3, label=\"val\")\n    plt.legend(loc=\"upper right\", fontsize=14)   # not shown in the book\n    plt.xlabel(\"Training set size\", fontsize=14) # not shown\n    plt.ylabel(\"RMSE\", fontsize=14)              # not shown",
      "id": "1f40b9fd-fe21-4a57-a8b7-6c6d79b953b5",
      "outputs": []
    },
    {
      "cell_type": "code",
      "execution_count": 36,
      "metadata": {},
      "source": "lin_reg = LinearRegression()\nplot_learning_curves(lin_reg, X, y)\nplt.axis([0, 80, 0, 3])                         # not shown in the book\nsave_fig(\"underfitting_learning_curves_plot\")   # not shown\nplt.show()                                      # not shown",
      "id": "975999ae-8e8e-468a-b2bf-6a0bdf853b80",
      "outputs": []
    },
    {
      "cell_type": "code",
      "execution_count": 37,
      "metadata": {},
      "source": "from sklearn.pipeline import Pipeline\n\npolynomial_regression = Pipeline([\n        (\"poly_features\", PolynomialFeatures(degree=10, include_bias=False)),\n        (\"lin_reg\", LinearRegression()),\n    ])\n\nplot_learning_curves(polynomial_regression, X, y)\nplt.axis([0, 80, 0, 3])           # not shown\nsave_fig(\"learning_curves_plot\")  # not shown\nplt.show()                        # not shown",
      "id": "5c819ff8-1c6e-4869-820d-13e222f57960",
      "outputs": []
    },
    {
      "cell_type": "markdown",
      "metadata": {
        "codeCollapsed": true
      },
      "source": "# Regularized Linear Models",
      "id": "524a47dc-3e0c-4091-8343-0b75d4b60290",
      "outputs": []
    },
    {
      "cell_type": "markdown",
      "metadata": {
        "codeCollapsed": true
      },
      "source": "## Ridge Regression",
      "id": "c4a06bac-0e57-4a52-b5b4-195cf42bf84e",
      "outputs": []
    },
    {
      "cell_type": "code",
      "execution_count": 38,
      "metadata": {},
      "source": "np.random.seed(42)\nm = 20\nX = 3 * np.random.rand(m, 1)\ny = 1 + 0.5 * X + np.random.randn(m, 1) / 1.5\nX_new = np.linspace(0, 3, 100).reshape(100, 1)",
      "id": "3cc49573-93af-41f6-b117-93be636e52b3",
      "outputs": []
    },
    {
      "cell_type": "code",
      "execution_count": 39,
      "metadata": {},
      "source": "from sklearn.linear_model import Ridge\nridge_reg = Ridge(alpha=1, solver=\"cholesky\", random_state=42)\nridge_reg.fit(X, y)\nridge_reg.predict([[1.5]])",
      "id": "b879f44f-15d3-4402-9bbd-13a34e038161",
      "outputs": []
    },
    {
      "cell_type": "code",
      "execution_count": 40,
      "metadata": {},
      "source": "ridge_reg = Ridge(alpha=1, solver=\"sag\", random_state=42)\nridge_reg.fit(X, y)\nridge_reg.predict([[1.5]])",
      "id": "6dd6c9da-2b77-4142-8953-04dd6ddd3192",
      "outputs": []
    },
    {
      "cell_type": "code",
      "execution_count": 41,
      "metadata": {},
      "source": "from sklearn.linear_model import Ridge\n\ndef plot_model(model_class, polynomial, alphas, **model_kargs):\n    for alpha, style in zip(alphas, (\"b-\", \"g--\", \"r:\")):\n        model = model_class(alpha, **model_kargs) if alpha > 0 else LinearRegression()\n        if polynomial:\n            model = Pipeline([\n                    (\"poly_features\", PolynomialFeatures(degree=10, include_bias=False)),\n                    (\"std_scaler\", StandardScaler()),\n                    (\"regul_reg\", model),\n                ])\n        model.fit(X, y)\n        y_new_regul = model.predict(X_new)\n        lw = 2 if alpha > 0 else 1\n        plt.plot(X_new, y_new_regul, style, linewidth=lw, label=r\"$\\alpha = {}$\".format(alpha))\n    plt.plot(X, y, \"b.\", linewidth=3)\n    plt.legend(loc=\"upper left\", fontsize=15)\n    plt.xlabel(\"$x_1$\", fontsize=18)\n    plt.axis([0, 3, 0, 4])\n\nplt.figure(figsize=(8,4))\nplt.subplot(121)\nplot_model(Ridge, polynomial=False, alphas=(0, 10, 100), random_state=42)\nplt.ylabel(\"$y$\", rotation=0, fontsize=18)\nplt.subplot(122)\nplot_model(Ridge, polynomial=True, alphas=(0, 10**-5, 1), random_state=42)\n\nsave_fig(\"ridge_regression_plot\")\nplt.show()",
      "id": "d4d10d18-f866-4700-9d38-e1a4803a39b3",
      "outputs": []
    },
    {
      "cell_type": "markdown",
      "metadata": {
        "codeCollapsed": true
      },
      "source": "**Note**: to be future-proof, we set `max_iter=1000` and `tol=1e-3` because these will be the default values in Scikit-Learn 0.21.",
      "id": "5148d2d3-b689-4a78-9051-00a1e0f2610b",
      "outputs": []
    },
    {
      "cell_type": "code",
      "execution_count": 42,
      "metadata": {},
      "source": "sgd_reg = SGDRegressor(penalty=\"l2\", max_iter=1000, tol=1e-3, random_state=42)\nsgd_reg.fit(X, y.ravel())\nsgd_reg.predict([[1.5]])",
      "id": "262bb79e-9954-491a-a07c-cbf67676bbe1",
      "outputs": []
    },
    {
      "cell_type": "markdown",
      "metadata": {
        "codeCollapsed": true
      },
      "source": "## Lasso Regression",
      "id": "5fa98ceb-03b7-4dd7-8e33-13b4ad795d21",
      "outputs": []
    },
    {
      "cell_type": "code",
      "execution_count": 43,
      "metadata": {},
      "source": "from sklearn.linear_model import Lasso\n\nplt.figure(figsize=(8,4))\nplt.subplot(121)\nplot_model(Lasso, polynomial=False, alphas=(0, 0.1, 1), random_state=42)\nplt.ylabel(\"$y$\", rotation=0, fontsize=18)\nplt.subplot(122)\nplot_model(Lasso, polynomial=True, alphas=(0, 10**-7, 1), random_state=42)\n\nsave_fig(\"lasso_regression_plot\")\nplt.show()",
      "id": "5150bc7b-7131-471b-b43d-be1bdeedd290",
      "outputs": []
    },
    {
      "cell_type": "code",
      "execution_count": 44,
      "metadata": {},
      "source": "from sklearn.linear_model import Lasso\nlasso_reg = Lasso(alpha=0.1)\nlasso_reg.fit(X, y)\nlasso_reg.predict([[1.5]])",
      "id": "9c594d64-68c7-4d62-a0aa-6da9b58799fc",
      "outputs": []
    },
    {
      "cell_type": "markdown",
      "metadata": {
        "codeCollapsed": true
      },
      "source": "## Elastic Net",
      "id": "9810ba6f-02b2-453e-addb-71f17b9136a0",
      "outputs": []
    },
    {
      "cell_type": "code",
      "execution_count": 45,
      "metadata": {},
      "source": "from sklearn.linear_model import ElasticNet\nelastic_net = ElasticNet(alpha=0.1, l1_ratio=0.5, random_state=42)\nelastic_net.fit(X, y)\nelastic_net.predict([[1.5]])",
      "id": "831a8344-438d-4a6f-95d2-7ce46b7637aa",
      "outputs": []
    },
    {
      "cell_type": "markdown",
      "metadata": {
        "codeCollapsed": true
      },
      "source": "## Early Stopping",
      "id": "eb7c678e-ca57-4584-8c42-f063f50d3162",
      "outputs": []
    },
    {
      "cell_type": "code",
      "execution_count": 46,
      "metadata": {},
      "source": "np.random.seed(42)\nm = 100\nX = 6 * np.random.rand(m, 1) - 3\ny = 2 + X + 0.5 * X**2 + np.random.randn(m, 1)\n\nX_train, X_val, y_train, y_val = train_test_split(X[:50], y[:50].ravel(), test_size=0.5, random_state=10)",
      "id": "fb512f6d-4a2a-4b73-a972-1424918efcf0",
      "outputs": []
    },
    {
      "cell_type": "code",
      "execution_count": 47,
      "metadata": {
        "scrolled": true
      },
      "source": "from copy import deepcopy\n\npoly_scaler = Pipeline([\n        (\"poly_features\", PolynomialFeatures(degree=90, include_bias=False)),\n        (\"std_scaler\", StandardScaler())\n    ])\n\nX_train_poly_scaled = poly_scaler.fit_transform(X_train)\nX_val_poly_scaled = poly_scaler.transform(X_val)\n\nsgd_reg = SGDRegressor(max_iter=1, tol=None, warm_start=True,\n                       penalty=None, learning_rate=\"constant\", eta0=0.0005, random_state=42)\n\nminimum_val_error = float(\"inf\")\nbest_epoch = None\nbest_model = None\nfor epoch in range(1000):\n    sgd_reg.fit(X_train_poly_scaled, y_train)  # continues where it left off\n    y_val_predict = sgd_reg.predict(X_val_poly_scaled)\n    val_error = mean_squared_error(y_val, y_val_predict)\n    if val_error < minimum_val_error:\n        minimum_val_error = val_error\n        best_epoch = epoch\n        best_model = deepcopy(sgd_reg)",
      "id": "8b7bfc24-0ded-40ed-9bc9-52b55d75ef1f",
      "outputs": []
    },
    {
      "cell_type": "markdown",
      "metadata": {
        "codeCollapsed": true
      },
      "source": "Create the graph:",
      "id": "fe032ce7-9cbd-4864-b8a2-7547f6f09029",
      "outputs": []
    },
    {
      "cell_type": "code",
      "execution_count": 48,
      "metadata": {},
      "source": "sgd_reg = SGDRegressor(max_iter=1, tol=None, warm_start=True,\n                       penalty=None, learning_rate=\"constant\", eta0=0.0005, random_state=42)\n\nn_epochs = 500\ntrain_errors, val_errors = [], []\nfor epoch in range(n_epochs):\n    sgd_reg.fit(X_train_poly_scaled, y_train)\n    y_train_predict = sgd_reg.predict(X_train_poly_scaled)\n    y_val_predict = sgd_reg.predict(X_val_poly_scaled)\n    train_errors.append(mean_squared_error(y_train, y_train_predict))\n    val_errors.append(mean_squared_error(y_val, y_val_predict))\n\nbest_epoch = np.argmin(val_errors)\nbest_val_rmse = np.sqrt(val_errors[best_epoch])\n\nplt.annotate('Best model',\n             xy=(best_epoch, best_val_rmse),\n             xytext=(best_epoch, best_val_rmse + 1),\n             ha=\"center\",\n             arrowprops=dict(facecolor='black', shrink=0.05),\n             fontsize=16,\n            )\n\nbest_val_rmse -= 0.03  # just to make the graph look better\nplt.plot([0, n_epochs], [best_val_rmse, best_val_rmse], \"k:\", linewidth=2)\nplt.plot(np.sqrt(val_errors), \"b-\", linewidth=3, label=\"Validation set\")\nplt.plot(np.sqrt(train_errors), \"r--\", linewidth=2, label=\"Training set\")\nplt.legend(loc=\"upper right\", fontsize=14)\nplt.xlabel(\"Epoch\", fontsize=14)\nplt.ylabel(\"RMSE\", fontsize=14)\nsave_fig(\"early_stopping_plot\")\nplt.show()",
      "id": "7f8db53e-e2b5-4615-8e71-3216ba54a353",
      "outputs": []
    },
    {
      "cell_type": "code",
      "execution_count": 49,
      "metadata": {},
      "source": "best_epoch, best_model",
      "id": "291214c4-c598-4e84-b358-a1fab74ba825",
      "outputs": []
    },
    {
      "cell_type": "code",
      "execution_count": 50,
      "metadata": {},
      "source": "%matplotlib inline\nimport matplotlib.pyplot as plt\nimport numpy as np",
      "id": "f0b2de24-abd6-46cd-8f75-410d12c817a2",
      "outputs": []
    },
    {
      "cell_type": "code",
      "execution_count": 51,
      "metadata": {},
      "source": "t1a, t1b, t2a, t2b = -1, 3, -1.5, 1.5\n\nt1s = np.linspace(t1a, t1b, 500)\nt2s = np.linspace(t2a, t2b, 500)\nt1, t2 = np.meshgrid(t1s, t2s)\nT = np.c_[t1.ravel(), t2.ravel()]\nXr = np.array([[1, 1], [1, -1], [1, 0.5]])\nyr = 2 * Xr[:, :1] + 0.5 * Xr[:, 1:]\n\nJ = (1/len(Xr) * np.sum((T.dot(Xr.T) - yr.T)**2, axis=1)).reshape(t1.shape)\n\nN1 = np.linalg.norm(T, ord=1, axis=1).reshape(t1.shape)\nN2 = np.linalg.norm(T, ord=2, axis=1).reshape(t1.shape)\n\nt_min_idx = np.unravel_index(np.argmin(J), J.shape)\nt1_min, t2_min = t1[t_min_idx], t2[t_min_idx]\n\nt_init = np.array([[0.25], [-1]])",
      "id": "04472496-365a-4b49-ac10-f45b414050cb",
      "outputs": []
    },
    {
      "cell_type": "code",
      "execution_count": 52,
      "metadata": {},
      "source": "def bgd_path(theta, X, y, l1, l2, core = 1, eta = 0.05, n_iterations = 200):\n    path = [theta]\n    for iteration in range(n_iterations):\n        gradients = core * 2/len(X) * X.T.dot(X.dot(theta) - y) + l1 * np.sign(theta) + l2 * theta\n        theta = theta - eta * gradients\n        path.append(theta)\n    return np.array(path)\n\nfig, axes = plt.subplots(2, 2, sharex=True, sharey=True, figsize=(10.1, 8))\nfor i, N, l1, l2, title in ((0, N1, 2., 0, \"Lasso\"), (1, N2, 0,  2., \"Ridge\")):\n    JR = J + l1 * N1 + l2 * 0.5 * N2**2\n    \n    tr_min_idx = np.unravel_index(np.argmin(JR), JR.shape)\n    t1r_min, t2r_min = t1[tr_min_idx], t2[tr_min_idx]\n\n    levelsJ=(np.exp(np.linspace(0, 1, 20)) - 1) * (np.max(J) - np.min(J)) + np.min(J)\n    levelsJR=(np.exp(np.linspace(0, 1, 20)) - 1) * (np.max(JR) - np.min(JR)) + np.min(JR)\n    levelsN=np.linspace(0, np.max(N), 10)\n    \n    path_J = bgd_path(t_init, Xr, yr, l1=0, l2=0)\n    path_JR = bgd_path(t_init, Xr, yr, l1, l2)\n    path_N = bgd_path(np.array([[2.0], [0.5]]), Xr, yr, np.sign(l1)/3, np.sign(l2), core=0)\n\n    ax = axes[i, 0]\n    ax.grid(True)\n    ax.axhline(y=0, color='k')\n    ax.axvline(x=0, color='k')\n    ax.contourf(t1, t2, N / 2., levels=levelsN)\n    ax.plot(path_N[:, 0], path_N[:, 1], \"y--\")\n    ax.plot(0, 0, \"ys\")\n    ax.plot(t1_min, t2_min, \"ys\")\n    ax.set_title(r\"$\\ell_{}$ penalty\".format(i + 1), fontsize=16)\n    ax.axis([t1a, t1b, t2a, t2b])\n    if i == 1:\n        ax.set_xlabel(r\"$\\theta_1$\", fontsize=16)\n    ax.set_ylabel(r\"$\\theta_2$\", fontsize=16, rotation=0)\n\n    ax = axes[i, 1]\n    ax.grid(True)\n    ax.axhline(y=0, color='k')\n    ax.axvline(x=0, color='k')\n    ax.contourf(t1, t2, JR, levels=levelsJR, alpha=0.9)\n    ax.plot(path_JR[:, 0], path_JR[:, 1], \"w-o\")\n    ax.plot(path_N[:, 0], path_N[:, 1], \"y--\")\n    ax.plot(0, 0, \"ys\")\n    ax.plot(t1_min, t2_min, \"ys\")\n    ax.plot(t1r_min, t2r_min, \"rs\")\n    ax.set_title(title, fontsize=16)\n    ax.axis([t1a, t1b, t2a, t2b])\n    if i == 1:\n        ax.set_xlabel(r\"$\\theta_1$\", fontsize=16)\n\nsave_fig(\"lasso_vs_ridge_plot\")\nplt.show()",
      "id": "be725517-49bf-409b-94b6-7b379fc01c3c",
      "outputs": []
    },
    {
      "cell_type": "markdown",
      "metadata": {
        "codeCollapsed": true
      },
      "source": "# Logistic Regression",
      "id": "9d0ba169-43a0-4b31-b247-015bf8298733",
      "outputs": []
    },
    {
      "cell_type": "markdown",
      "metadata": {
        "codeCollapsed": true
      },
      "source": "## Decision Boundaries",
      "id": "6d996134-d332-4f60-a969-ea2e3db2dbfb",
      "outputs": []
    },
    {
      "cell_type": "code",
      "execution_count": 53,
      "metadata": {},
      "source": "t = np.linspace(-10, 10, 100)\nsig = 1 / (1 + np.exp(-t))\nplt.figure(figsize=(9, 3))\nplt.plot([-10, 10], [0, 0], \"k-\")\nplt.plot([-10, 10], [0.5, 0.5], \"k:\")\nplt.plot([-10, 10], [1, 1], \"k:\")\nplt.plot([0, 0], [-1.1, 1.1], \"k-\")\nplt.plot(t, sig, \"b-\", linewidth=2, label=r\"$\\sigma(t) = \\frac{1}{1 + e^{-t}}$\")\nplt.xlabel(\"t\")\nplt.legend(loc=\"upper left\", fontsize=20)\nplt.axis([-10, 10, -0.1, 1.1])\nsave_fig(\"logistic_function_plot\")\nplt.show()",
      "id": "344e875d-531a-4737-ad59-3b9e18a3c888",
      "outputs": []
    },
    {
      "cell_type": "code",
      "execution_count": 54,
      "metadata": {},
      "source": "from sklearn import datasets\niris = datasets.load_iris()\nlist(iris.keys())",
      "id": "d6399454-2b62-4a2d-bad8-0828ea7b8b31",
      "outputs": []
    },
    {
      "cell_type": "code",
      "execution_count": 55,
      "metadata": {},
      "source": "print(iris.DESCR)",
      "id": "51f37b63-94e6-423f-8f4e-03bbb6b1fcde",
      "outputs": []
    },
    {
      "cell_type": "code",
      "execution_count": 56,
      "metadata": {},
      "source": "X = iris[\"data\"][:, 3:]  # petal width\ny = (iris[\"target\"] == 2).astype(int)  # 1 if Iris virginica, else 0",
      "id": "b4ebe8b8-83d6-4e47-bc07-016a7cbf698d",
      "outputs": []
    },
    {
      "cell_type": "markdown",
      "metadata": {
        "codeCollapsed": true
      },
      "source": "**Note**: To be future-proof we set `solver=\"lbfgs\"` since this will be the default value in Scikit-Learn 0.22.",
      "id": "92d14cc2-718f-449e-870b-e9a20f4e6744",
      "outputs": []
    },
    {
      "cell_type": "code",
      "execution_count": 57,
      "metadata": {},
      "source": "from sklearn.linear_model import LogisticRegression\nlog_reg = LogisticRegression(solver=\"lbfgs\", random_state=42)\nlog_reg.fit(X, y)",
      "id": "cc61b903-cee1-411f-adc6-6a4c06f21295",
      "outputs": []
    },
    {
      "cell_type": "code",
      "execution_count": 58,
      "metadata": {},
      "source": "X_new = np.linspace(0, 3, 1000).reshape(-1, 1)\ny_proba = log_reg.predict_proba(X_new)\n\nplt.plot(X_new, y_proba[:, 1], \"g-\", linewidth=2, label=\"Iris virginica\")\nplt.plot(X_new, y_proba[:, 0], \"b--\", linewidth=2, label=\"Not Iris virginica\")",
      "id": "4e7cc2f8-9f31-41d5-8243-874092176936",
      "outputs": []
    },
    {
      "cell_type": "markdown",
      "metadata": {
        "codeCollapsed": true
      },
      "source": "The figure in the book actually is actually a bit fancier:",
      "id": "3c5b2e29-554b-491d-a124-64e60afaaf5f",
      "outputs": []
    },
    {
      "cell_type": "code",
      "execution_count": 59,
      "metadata": {},
      "source": "X_new = np.linspace(0, 3, 1000).reshape(-1, 1)\ny_proba = log_reg.predict_proba(X_new)\ndecision_boundary = X_new[y_proba[:, 1] >= 0.5][0]\n\nplt.figure(figsize=(8, 3))\nplt.plot(X[y==0], y[y==0], \"bs\")\nplt.plot(X[y==1], y[y==1], \"g^\")\nplt.plot([decision_boundary, decision_boundary], [-1, 2], \"k:\", linewidth=2)\nplt.plot(X_new, y_proba[:, 1], \"g-\", linewidth=2, label=\"Iris virginica\")\nplt.plot(X_new, y_proba[:, 0], \"b--\", linewidth=2, label=\"Not Iris virginica\")\nplt.text(decision_boundary+0.02, 0.15, \"Decision  boundary\", fontsize=14, color=\"k\", ha=\"center\")\nplt.arrow(decision_boundary, 0.08, -0.3, 0, head_width=0.05, head_length=0.1, fc='b', ec='b')\nplt.arrow(decision_boundary, 0.92, 0.3, 0, head_width=0.05, head_length=0.1, fc='g', ec='g')\nplt.xlabel(\"Petal width (cm)\", fontsize=14)\nplt.ylabel(\"Probability\", fontsize=14)\nplt.legend(loc=\"center left\", fontsize=14)\nplt.axis([0, 3, -0.02, 1.02])\nsave_fig(\"logistic_regression_plot\")\nplt.show()",
      "id": "4eaea8ef-76c4-47b8-b59f-3d1beb727e1d",
      "outputs": []
    },
    {
      "cell_type": "code",
      "execution_count": 60,
      "metadata": {},
      "source": "decision_boundary",
      "id": "96f99d36-fd42-4d5a-a518-8315d3348a20",
      "outputs": []
    },
    {
      "cell_type": "code",
      "execution_count": 61,
      "metadata": {},
      "source": "log_reg.predict([[1.7], [1.5]])",
      "id": "c7c1c3d1-91c3-4554-8aa9-5205d069ed87",
      "outputs": []
    },
    {
      "cell_type": "markdown",
      "metadata": {
        "codeCollapsed": true
      },
      "source": "## Softmax Regression",
      "id": "d438e7f1-f6e3-4b2b-bd0d-f63995ba18a0",
      "outputs": []
    },
    {
      "cell_type": "code",
      "execution_count": 62,
      "metadata": {},
      "source": "from sklearn.linear_model import LogisticRegression\n\nX = iris[\"data\"][:, (2, 3)]  # petal length, petal width\ny = (iris[\"target\"] == 2).astype(int)\n\nlog_reg = LogisticRegression(solver=\"lbfgs\", C=10**10, random_state=42)\nlog_reg.fit(X, y)\n\nx0, x1 = np.meshgrid(\n        np.linspace(2.9, 7, 500).reshape(-1, 1),\n        np.linspace(0.8, 2.7, 200).reshape(-1, 1),\n    )\nX_new = np.c_[x0.ravel(), x1.ravel()]\n\ny_proba = log_reg.predict_proba(X_new)\n\nplt.figure(figsize=(10, 4))\nplt.plot(X[y==0, 0], X[y==0, 1], \"bs\")\nplt.plot(X[y==1, 0], X[y==1, 1], \"g^\")\n\nzz = y_proba[:, 1].reshape(x0.shape)\ncontour = plt.contour(x0, x1, zz, cmap=plt.cm.brg)\n\n\nleft_right = np.array([2.9, 7])\nboundary = -(log_reg.coef_[0][0] * left_right + log_reg.intercept_[0]) / log_reg.coef_[0][1]\n\nplt.clabel(contour, inline=1, fontsize=12)\nplt.plot(left_right, boundary, \"k--\", linewidth=3)\nplt.text(3.5, 1.5, \"Not Iris virginica\", fontsize=14, color=\"b\", ha=\"center\")\nplt.text(6.5, 2.3, \"Iris virginica\", fontsize=14, color=\"g\", ha=\"center\")\nplt.xlabel(\"Petal length\", fontsize=14)\nplt.ylabel(\"Petal width\", fontsize=14)\nplt.axis([2.9, 7, 0.8, 2.7])\nsave_fig(\"logistic_regression_contour_plot\")\nplt.show()",
      "id": "9df15295-251c-40c4-8bb4-0e290107cc46",
      "outputs": []
    },
    {
      "cell_type": "code",
      "execution_count": 63,
      "metadata": {},
      "source": "X = iris[\"data\"][:, (2, 3)]  # petal length, petal width\ny = iris[\"target\"]\n\nsoftmax_reg = LogisticRegression(multi_class=\"multinomial\",solver=\"lbfgs\", C=10, random_state=42)\nsoftmax_reg.fit(X, y)",
      "id": "3aa8bbcb-0d8e-4357-a7b3-730103a53c02",
      "outputs": []
    },
    {
      "cell_type": "code",
      "execution_count": 64,
      "metadata": {},
      "source": "x0, x1 = np.meshgrid(\n        np.linspace(0, 8, 500).reshape(-1, 1),\n        np.linspace(0, 3.5, 200).reshape(-1, 1),\n    )\nX_new = np.c_[x0.ravel(), x1.ravel()]\n\n\ny_proba = softmax_reg.predict_proba(X_new)\ny_predict = softmax_reg.predict(X_new)\n\nzz1 = y_proba[:, 1].reshape(x0.shape)\nzz = y_predict.reshape(x0.shape)\n\nplt.figure(figsize=(10, 4))\nplt.plot(X[y==2, 0], X[y==2, 1], \"g^\", label=\"Iris virginica\")\nplt.plot(X[y==1, 0], X[y==1, 1], \"bs\", label=\"Iris versicolor\")\nplt.plot(X[y==0, 0], X[y==0, 1], \"yo\", label=\"Iris setosa\")\n\nfrom matplotlib.colors import ListedColormap\ncustom_cmap = ListedColormap(['#fafab0','#9898ff','#a0faa0'])\n\nplt.contourf(x0, x1, zz, cmap=custom_cmap)\ncontour = plt.contour(x0, x1, zz1, cmap=plt.cm.brg)\nplt.clabel(contour, inline=1, fontsize=12)\nplt.xlabel(\"Petal length\", fontsize=14)\nplt.ylabel(\"Petal width\", fontsize=14)\nplt.legend(loc=\"center left\", fontsize=14)\nplt.axis([0, 7, 0, 3.5])\nsave_fig(\"softmax_regression_contour_plot\")\nplt.show()",
      "id": "2f18951b-cfd9-4683-b956-262413e54913",
      "outputs": []
    },
    {
      "cell_type": "code",
      "execution_count": 65,
      "metadata": {},
      "source": "softmax_reg.predict([[5, 2]])",
      "id": "ea42919f-9054-498d-8db8-38097ad7bfe8",
      "outputs": []
    },
    {
      "cell_type": "code",
      "execution_count": 66,
      "metadata": {},
      "source": "softmax_reg.predict_proba([[5, 2]])",
      "id": "d7f61629-0736-4c7b-93a2-6a443f4155bb",
      "outputs": []
    },
    {
      "cell_type": "markdown",
      "metadata": {
        "codeCollapsed": true
      },
      "source": "# Exercise solutions",
      "id": "238a0e2a-c749-4997-bc3c-dc3cee073a5e",
      "outputs": []
    },
    {
      "cell_type": "markdown",
      "metadata": {
        "codeCollapsed": true
      },
      "source": "## 1. to 11.",
      "id": "8f832a8a-ce2f-4090-b0c0-8a4dceb191c9",
      "outputs": []
    },
    {
      "cell_type": "markdown",
      "metadata": {
        "codeCollapsed": true
      },
      "source": "See appendix A.",
      "id": "9ba60734-f842-4b15-8872-77dd896bdf8b",
      "outputs": []
    },
    {
      "cell_type": "markdown",
      "metadata": {
        "codeCollapsed": true
      },
      "source": "## 12. Batch Gradient Descent with early stopping for Softmax Regression\n(without using Scikit-Learn)",
      "id": "477a2775-24c9-4625-b019-ef775ddc0d5b",
      "outputs": []
    },
    {
      "cell_type": "markdown",
      "metadata": {
        "codeCollapsed": true
      },
      "source": "Let's start by loading the data. We will just reuse the Iris dataset we loaded earlier.",
      "id": "44f9a004-5168-4a65-8b49-2eceb494f584",
      "outputs": []
    },
    {
      "cell_type": "code",
      "execution_count": 67,
      "metadata": {},
      "source": "X = iris[\"data\"][:, (2, 3)]  # petal length, petal width\ny = iris[\"target\"]",
      "id": "f2583641-e89e-408f-a4c6-4e623464cf77",
      "outputs": []
    },
    {
      "cell_type": "markdown",
      "metadata": {
        "codeCollapsed": true
      },
      "source": "We need to add the bias term for every instance ($x_0 = 1$):",
      "id": "84a0f1a2-9bdf-4cb0-a829-8e9cbcf7e938",
      "outputs": []
    },
    {
      "cell_type": "code",
      "execution_count": 68,
      "metadata": {},
      "source": "X_with_bias = np.c_[np.ones([len(X), 1]), X]",
      "id": "e389f150-566f-4d65-aa01-b99bc68b95c4",
      "outputs": []
    },
    {
      "cell_type": "markdown",
      "metadata": {
        "codeCollapsed": true
      },
      "source": "And let's set the random seed so the output of this exercise solution is reproducible:",
      "id": "abd3f903-3c65-46b9-93b8-22b7a323de91",
      "outputs": []
    },
    {
      "cell_type": "code",
      "execution_count": 69,
      "metadata": {},
      "source": "np.random.seed(2042)",
      "id": "7b22bca7-de0c-4066-a81f-74212760fe4b",
      "outputs": []
    },
    {
      "cell_type": "markdown",
      "metadata": {
        "codeCollapsed": true
      },
      "source": "The easiest option to split the dataset into a training set, a validation set and a test set would be to use Scikit-Learn's `train_test_split()` function, but the point of this exercise is to try understand the algorithms by implementing them manually. So here is one possible implementation:",
      "id": "505deb87-c6d0-4ae5-b343-6c45d8bbe30f",
      "outputs": []
    },
    {
      "cell_type": "code",
      "execution_count": 70,
      "metadata": {},
      "source": "test_ratio = 0.2\nvalidation_ratio = 0.2\ntotal_size = len(X_with_bias)\n\ntest_size = int(total_size * test_ratio)\nvalidation_size = int(total_size * validation_ratio)\ntrain_size = total_size - test_size - validation_size\n\nrnd_indices = np.random.permutation(total_size)\n\nX_train = X_with_bias[rnd_indices[:train_size]]\ny_train = y[rnd_indices[:train_size]]\nX_valid = X_with_bias[rnd_indices[train_size:-test_size]]\ny_valid = y[rnd_indices[train_size:-test_size]]\nX_test = X_with_bias[rnd_indices[-test_size:]]\ny_test = y[rnd_indices[-test_size:]]",
      "id": "882c080f-a6b1-47c6-a9af-e81058368e9e",
      "outputs": []
    },
    {
      "cell_type": "markdown",
      "metadata": {
        "codeCollapsed": true
      },
      "source": "The targets are currently class indices (0, 1 or 2), but we need target class probabilities to train the Softmax Regression model. Each instance will have target class probabilities equal to 0.0 for all classes except for the target class which will have a probability of 1.0 (in other words, the vector of class probabilities for ay given instance is a one-hot vector). Let's write a small function to convert the vector of class indices into a matrix containing a one-hot vector for each instance:",
      "id": "a517f93e-0f95-4f78-af09-b34d12c2e07b",
      "outputs": []
    },
    {
      "cell_type": "code",
      "execution_count": 71,
      "metadata": {},
      "source": "def to_one_hot(y):\n    n_classes = y.max() + 1\n    m = len(y)\n    Y_one_hot = np.zeros((m, n_classes))\n    Y_one_hot[np.arange(m), y] = 1\n    return Y_one_hot",
      "id": "8e162e85-ca2d-4286-bc78-cb9e10bc4ab8",
      "outputs": []
    },
    {
      "cell_type": "markdown",
      "metadata": {
        "codeCollapsed": true
      },
      "source": "Let's test this function on the first 10 instances:",
      "id": "973ae8e7-8359-4ef9-97c8-874ad9ec32c0",
      "outputs": []
    },
    {
      "cell_type": "code",
      "execution_count": 72,
      "metadata": {},
      "source": "y_train[:10]",
      "id": "2a53b55a-39b8-452b-84ff-1b84a791751f",
      "outputs": []
    },
    {
      "cell_type": "code",
      "execution_count": 73,
      "metadata": {},
      "source": "to_one_hot(y_train[:10])",
      "id": "e31e3926-aa3f-4a12-9818-55ab9035d958",
      "outputs": []
    },
    {
      "cell_type": "markdown",
      "metadata": {
        "codeCollapsed": true
      },
      "source": "Looks good, so let's create the target class probabilities matrix for the training set and the test set:",
      "id": "a7eeece3-786e-431f-a4c5-3bcf57fe639f",
      "outputs": []
    },
    {
      "cell_type": "code",
      "execution_count": 74,
      "metadata": {},
      "source": "Y_train_one_hot = to_one_hot(y_train)\nY_valid_one_hot = to_one_hot(y_valid)\nY_test_one_hot = to_one_hot(y_test)",
      "id": "6668f744-35dd-498c-a101-21a9cd4bb6aa",
      "outputs": []
    },
    {
      "cell_type": "markdown",
      "metadata": {
        "codeCollapsed": true
      },
      "source": "Now let's implement the Softmax function. Recall that it is defined by the following equation:\n\n$\\sigma\\left(\\mathbf{s}(\\mathbf{x})\\right)_k = \\dfrac{\\exp\\left(s_k(\\mathbf{x})\\right)}{\\sum\\limits_{j=1}^{K}{\\exp\\left(s_j(\\mathbf{x})\\right)}}$",
      "id": "e1ff0b69-1803-4529-b6cc-5e6830c48ae8",
      "outputs": []
    },
    {
      "cell_type": "code",
      "execution_count": 75,
      "metadata": {},
      "source": "def softmax(logits):\n    exps = np.exp(logits)\n    exp_sums = np.sum(exps, axis=1, keepdims=True)\n    return exps / exp_sums",
      "id": "ca023a30-7030-4969-a9e1-cbaf7a6e1ef3",
      "outputs": []
    },
    {
      "cell_type": "markdown",
      "metadata": {
        "codeCollapsed": true
      },
      "source": "We are almost ready to start training. Let's define the number of inputs and outputs:",
      "id": "0bde7984-99ca-47af-a7dc-d014c76edeff",
      "outputs": []
    },
    {
      "cell_type": "code",
      "execution_count": 76,
      "metadata": {},
      "source": "n_inputs = X_train.shape[1] # == 3 (2 features plus the bias term)\nn_outputs = len(np.unique(y_train))   # == 3 (3 iris classes)",
      "id": "6e1530dc-b922-4945-8d55-8badc58ed78e",
      "outputs": []
    },
    {
      "cell_type": "markdown",
      "metadata": {
        "codeCollapsed": true
      },
      "source": "Now here comes the hardest part: training! Theoretically, it's simple: it's just a matter of translating the math equations into Python code. But in practice, it can be quite tricky: in particular, it's easy to mix up the order of the terms, or the indices. You can even end up with code that looks like it's working but is actually not computing exactly the right thing. When unsure, you should write down the shape of each term in the equation and make sure the corresponding terms in your code match closely. It can also help to evaluate each term independently and print them out. The good news it that you won't have to do this everyday, since all this is well implemented by Scikit-Learn, but it will help you understand what's going on under the hood.\n\nSo the equations we will need are the cost function:\n\n$J(\\mathbf{\\Theta}) =\n- \\dfrac{1}{m}\\sum\\limits_{i=1}^{m}\\sum\\limits_{k=1}^{K}{y_k^{(i)}\\log\\left(\\hat{p}_k^{(i)}\\right)}$\n\nAnd the equation for the gradients:\n\n$\\nabla_{\\mathbf{\\theta}^{(k)}} \\, J(\\mathbf{\\Theta}) = \\dfrac{1}{m} \\sum\\limits_{i=1}^{m}{ \\left ( \\hat{p}^{(i)}_k - y_k^{(i)} \\right ) \\mathbf{x}^{(i)}}$\n\nNote that $\\log\\left(\\hat{p}_k^{(i)}\\right)$ may not be computable if $\\hat{p}_k^{(i)} = 0$. So we will add a tiny value $\\epsilon$ to $\\log\\left(\\hat{p}_k^{(i)}\\right)$ to avoid getting `nan` values.",
      "id": "41473aa9-903a-44b4-99ba-4cf69808a94c",
      "outputs": []
    },
    {
      "cell_type": "code",
      "execution_count": 77,
      "metadata": {},
      "source": "eta = 0.01\nn_iterations = 5001\nm = len(X_train)\nepsilon = 1e-7\n\nTheta = np.random.randn(n_inputs, n_outputs)\n\nfor iteration in range(n_iterations):\n    logits = X_train.dot(Theta)\n    Y_proba = softmax(logits)\n    if iteration % 500 == 0:\n        loss = -np.mean(np.sum(Y_train_one_hot * np.log(Y_proba + epsilon), axis=1))\n        print(iteration, loss)\n    error = Y_proba - Y_train_one_hot\n    gradients = 1/m * X_train.T.dot(error)\n    Theta = Theta - eta * gradients",
      "id": "6133dbf2-90f7-439b-87ad-99e5cd60f6c2",
      "outputs": []
    },
    {
      "cell_type": "markdown",
      "metadata": {
        "codeCollapsed": true
      },
      "source": "And that's it! The Softmax model is trained. Let's look at the model parameters:",
      "id": "4b3dfdb1-fd23-4572-b3bb-c60ef0fa7747",
      "outputs": []
    },
    {
      "cell_type": "code",
      "execution_count": 78,
      "metadata": {},
      "source": "Theta",
      "id": "c56690a1-2081-4102-81ee-aeb323692383",
      "outputs": []
    },
    {
      "cell_type": "markdown",
      "metadata": {
        "codeCollapsed": true
      },
      "source": "Let's make predictions for the validation set and check the accuracy score:",
      "id": "ddee9ba4-93e3-48e2-9de2-155ddeb933e7",
      "outputs": []
    },
    {
      "cell_type": "code",
      "execution_count": 79,
      "metadata": {},
      "source": "logits = X_valid.dot(Theta)\nY_proba = softmax(logits)\ny_predict = np.argmax(Y_proba, axis=1)\n\naccuracy_score = np.mean(y_predict == y_valid)\naccuracy_score",
      "id": "ec6f2e9b-0520-40a4-94b1-a9663e08cb61",
      "outputs": []
    },
    {
      "cell_type": "markdown",
      "metadata": {
        "codeCollapsed": true
      },
      "source": "Well, this model looks pretty good. For the sake of the exercise, let's add a bit of $\\ell_2$ regularization. The following training code is similar to the one above, but the loss now has an additional $\\ell_2$ penalty, and the gradients have the proper additional term (note that we don't regularize the first element of `Theta` since this corresponds to the bias term). Also, let's try increasing the learning rate `eta`.",
      "id": "81dd408b-09da-490f-b098-a821c3c04361",
      "outputs": []
    },
    {
      "cell_type": "code",
      "execution_count": 80,
      "metadata": {},
      "source": "eta = 0.1\nn_iterations = 5001\nm = len(X_train)\nepsilon = 1e-7\nalpha = 0.1  # regularization hyperparameter\n\nTheta = np.random.randn(n_inputs, n_outputs)\n\nfor iteration in range(n_iterations):\n    logits = X_train.dot(Theta)\n    Y_proba = softmax(logits)\n    if iteration % 500 == 0:\n        xentropy_loss = -np.mean(np.sum(Y_train_one_hot * np.log(Y_proba + epsilon), axis=1))\n        l2_loss = 1/2 * np.sum(np.square(Theta[1:]))\n        loss = xentropy_loss + alpha * l2_loss\n        print(iteration, loss)\n    error = Y_proba - Y_train_one_hot\n    gradients = 1/m * X_train.T.dot(error) + np.r_[np.zeros([1, n_outputs]), alpha * Theta[1:]]\n    Theta = Theta - eta * gradients",
      "id": "3af4f622-ef10-4daf-9c0c-bee44eca3b08",
      "outputs": []
    },
    {
      "cell_type": "markdown",
      "metadata": {
        "codeCollapsed": true
      },
      "source": "Because of the additional $\\ell_2$ penalty, the loss seems greater than earlier, but perhaps this model will perform better? Let's find out:",
      "id": "4e1f2ebf-b20d-4b34-a19b-dd906578d261",
      "outputs": []
    },
    {
      "cell_type": "code",
      "execution_count": 81,
      "metadata": {},
      "source": "logits = X_valid.dot(Theta)\nY_proba = softmax(logits)\ny_predict = np.argmax(Y_proba, axis=1)\n\naccuracy_score = np.mean(y_predict == y_valid)\naccuracy_score",
      "id": "e5a40768-f949-42fc-afb5-5babc276e162",
      "outputs": []
    },
    {
      "cell_type": "markdown",
      "metadata": {
        "codeCollapsed": true
      },
      "source": "Cool, perfect accuracy! We probably just got lucky with this validation set, but still, it's pleasant.",
      "id": "bb0704f4-4c29-4a81-97a2-3f0a51337562",
      "outputs": []
    },
    {
      "cell_type": "markdown",
      "metadata": {
        "codeCollapsed": true
      },
      "source": "Now let's add early stopping. For this we just need to measure the loss on the validation set at every iteration and stop when the error starts growing.",
      "id": "f526490e-49af-4d25-91c6-3982b774b73c",
      "outputs": []
    },
    {
      "cell_type": "code",
      "execution_count": 82,
      "metadata": {},
      "source": "eta = 0.1 \nn_iterations = 5001\nm = len(X_train)\nepsilon = 1e-7\nalpha = 0.1  # regularization hyperparameter\nbest_loss = 1e6\n\nTheta = np.random.randn(n_inputs, n_outputs)\n\nfor iteration in range(n_iterations):\n    logits = X_train.dot(Theta)\n    Y_proba = softmax(logits)\n    error = Y_proba - Y_train_one_hot\n    gradients = 1/m * X_train.T.dot(error) + np.r_[np.zeros([1, n_outputs]), alpha * Theta[1:]]\n    Theta = Theta - eta * gradients\n\n    logits = X_valid.dot(Theta)\n    Y_proba = softmax(logits)\n    xentropy_loss = -np.mean(np.sum(Y_valid_one_hot * np.log(Y_proba + epsilon), axis=1))\n    l2_loss = 1/2 * np.sum(np.square(Theta[1:]))\n    loss = xentropy_loss + alpha * l2_loss\n    if iteration % 500 == 0:\n        print(iteration, loss)\n    if loss < best_loss:\n        best_loss = loss\n    else:\n        print(iteration - 1, best_loss)\n        print(iteration, loss, \"early stopping!\")\n        break",
      "id": "77b3c3a7-1680-41ad-889b-f6fe3073e721",
      "outputs": []
    },
    {
      "cell_type": "code",
      "execution_count": 83,
      "metadata": {},
      "source": "logits = X_valid.dot(Theta)\nY_proba = softmax(logits)\ny_predict = np.argmax(Y_proba, axis=1)\n\naccuracy_score = np.mean(y_predict == y_valid)\naccuracy_score",
      "id": "069bf87b-835b-4c94-baa2-bda715490343",
      "outputs": []
    },
    {
      "cell_type": "markdown",
      "metadata": {
        "codeCollapsed": true
      },
      "source": "Still perfect, but faster.",
      "id": "418f8ac6-4ae6-4e00-8551-b3fa131f64e6",
      "outputs": []
    },
    {
      "cell_type": "markdown",
      "metadata": {
        "codeCollapsed": true
      },
      "source": "Now let's plot the model's predictions on the whole dataset:",
      "id": "0772016f-79a5-45b1-960b-e7da4c522143",
      "outputs": []
    },
    {
      "cell_type": "code",
      "execution_count": 84,
      "metadata": {},
      "source": "x0, x1 = np.meshgrid(\n        np.linspace(0, 8, 500).reshape(-1, 1),\n        np.linspace(0, 3.5, 200).reshape(-1, 1),\n    )\nX_new = np.c_[x0.ravel(), x1.ravel()]\nX_new_with_bias = np.c_[np.ones([len(X_new), 1]), X_new]\n\nlogits = X_new_with_bias.dot(Theta)\nY_proba = softmax(logits)\ny_predict = np.argmax(Y_proba, axis=1)\n\nzz1 = Y_proba[:, 1].reshape(x0.shape)\nzz = y_predict.reshape(x0.shape)\n\nplt.figure(figsize=(10, 4))\nplt.plot(X[y==2, 0], X[y==2, 1], \"g^\", label=\"Iris virginica\")\nplt.plot(X[y==1, 0], X[y==1, 1], \"bs\", label=\"Iris versicolor\")\nplt.plot(X[y==0, 0], X[y==0, 1], \"yo\", label=\"Iris setosa\")\n\nfrom matplotlib.colors import ListedColormap\ncustom_cmap = ListedColormap(['#fafab0','#9898ff','#a0faa0'])\n\nplt.contourf(x0, x1, zz, cmap=custom_cmap)\ncontour = plt.contour(x0, x1, zz1, cmap=plt.cm.brg)\nplt.clabel(contour, inline=1, fontsize=12)\nplt.xlabel(\"Petal length\", fontsize=14)\nplt.ylabel(\"Petal width\", fontsize=14)\nplt.legend(loc=\"upper left\", fontsize=14)\nplt.axis([0, 7, 0, 3.5])\nplt.show()",
      "id": "c7f70a50-34bc-4e85-bea5-1438d1fc675c",
      "outputs": []
    },
    {
      "cell_type": "markdown",
      "metadata": {
        "codeCollapsed": true
      },
      "source": "And now let's measure the final model's accuracy on the test set:",
      "id": "33295330-f950-431d-b883-c8423b3f5f33",
      "outputs": []
    },
    {
      "cell_type": "code",
      "execution_count": 85,
      "metadata": {},
      "source": "logits = X_test.dot(Theta)\nY_proba = softmax(logits)\ny_predict = np.argmax(Y_proba, axis=1)\n\naccuracy_score = np.mean(y_predict == y_test)\naccuracy_score",
      "id": "a827f36f-0aff-4316-a322-867fe57c50fc",
      "outputs": []
    },
    {
      "cell_type": "markdown",
      "metadata": {
        "codeCollapsed": true
      },
      "source": "Our perfect model turns out to have slight imperfections. This variability is likely due to the very small size of the dataset: depending on how you sample the training set, validation set and the test set, you can get quite different results. Try changing the random seed and running the code again a few times, you will see that the results will vary.",
      "id": "0e08dc0b-085a-4d6b-be8a-041f20cb95d4",
      "outputs": []
    }
  ],
  "metadata": {
    "kernelspec": {
      "display_name": "Python 3",
      "language": "python",
      "name": "python3"
    },
    "language_info": {
      "codemirror_mode": {
        "name": "ipython",
        "version": 3
      },
      "file_extension": ".py",
      "mimetype": "text/x-python",
      "name": "python",
      "nbconvert_exporter": "python",
      "pygments_lexer": "ipython3",
      "version": "3.7.10"
    },
    "nav_menu": {},
    "toc": {
      "navigate_menu": true,
      "number_sections": true,
      "sideBar": true,
      "threshold": 6,
      "toc_cell": false,
      "toc_section_display": "block",
      "toc_window_display": false
    }
  },
  "nbformat": 4,
  "nbformat_minor": 4
}